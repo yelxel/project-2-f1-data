{
  "cells": [
    {
      "cell_type": "markdown",
      "metadata": {
        "id": "view-in-github",
        "colab_type": "text"
      },
      "source": [
        "<a href=\"https://colab.research.google.com/github/yelxel/project-2-f1-data/blob/main/Project_2_Part_5.ipynb\" target=\"_parent\"><img src=\"https://colab.research.google.com/assets/colab-badge.svg\" alt=\"Open In Colab\"/></a>"
      ]
    },
    {
      "cell_type": "markdown",
      "source": [
        "[Presentation Slides](https://www.canva.com/design/DAFKrK5Gx44/O8ZUnZovWjPmh7wkwPFcrA/edit?utm_content=DAFKrK5Gx44&utm_campaign=designshare&utm_medium=link2&utm_source=sharebutton)"
      ],
      "metadata": {
        "id": "dIJ9iDsB1jk7"
      }
    },
    {
      "cell_type": "code",
      "execution_count": 67,
      "metadata": {
        "id": "2lzeGNDlToOJ",
        "colab": {
          "base_uri": "https://localhost:8080/"
        },
        "outputId": "1aad49b1-a14e-490d-e27c-12c36c844140"
      },
      "outputs": [
        {
          "output_type": "stream",
          "name": "stdout",
          "text": [
            "Drive already mounted at /content/drive; to attempt to forcibly remount, call drive.mount(\"/content/drive\", force_remount=True).\n"
          ]
        }
      ],
      "source": [
        "from google.colab import drive\n",
        "drive.mount('/content/drive')"
      ]
    },
    {
      "cell_type": "code",
      "execution_count": 68,
      "metadata": {
        "id": "hMzG2d4sTrrh"
      },
      "outputs": [],
      "source": [
        "import matplotlib.pyplot as plt\n",
        "import seaborn as sns\n",
        "import pandas as pd\n",
        "import numpy as np"
      ]
    },
    {
      "cell_type": "markdown",
      "metadata": {
        "id": "HUSa-PSgovR8"
      },
      "source": [
        "1) Source of data\n",
        "\n",
        "- http://ergast.com/mrd/ provides comprehensive access to motor racing data\n",
        "\n",
        "2) Brief description of data\n",
        "\n",
        "- \"The dataset consists of all information on the Formula 1 races, drivers, constructors, qualifying, circuits, lap times, pit stops, championships from 1950 till the latest 2021 season.\" [Source](https://www.kaggle.com/datasets/rohanrao/formula-1-world-championship-1950-2020?select=constructors.csv)\n",
        "\n",
        "3) What is the target?\n",
        "\n",
        "- y = positionOrder, which represents a driver's final ranking in the race\n",
        "\n",
        "4) Is this a classification or regression problem?\n",
        "\n",
        "- Classification\n",
        "\n",
        "5) How many features?\n",
        "\n",
        "- 15 features\n",
        "\n",
        "6) How many rows of data.\n",
        "\n",
        "- 25660 rows\n",
        "\n",
        "7) What, if any, challenges do your foresee in cleaning, exploring, or modeling with this dataset?\n",
        "\n",
        "There may be some challenges in finding and addressing missing data, especially as this is a relatively large data set."
      ]
    },
    {
      "cell_type": "markdown",
      "metadata": {
        "id": "rGC6p3ZjS6HP"
      },
      "source": [
        "Data Preprocessing"
      ]
    },
    {
      "cell_type": "code",
      "execution_count": 69,
      "metadata": {
        "id": "WoJA-ohkVn6I",
        "colab": {
          "base_uri": "https://localhost:8080/",
          "height": 206
        },
        "outputId": "ce7b774e-ddbc-4728-ef55-8aeca8a5074f"
      },
      "outputs": [
        {
          "output_type": "execute_result",
          "data": {
            "text/plain": [
              "   raceId  year  round  circuitId                   name        date  \\\n",
              "0       1  2009      1          1  Australian Grand Prix  29/03/2009   \n",
              "1       2  2009      2          2   Malaysian Grand Prix  05/04/2009   \n",
              "2       3  2009      3         17     Chinese Grand Prix  19/04/2009   \n",
              "3       4  2009      4          3     Bahrain Grand Prix  26/04/2009   \n",
              "4       5  2009      5          4     Spanish Grand Prix  10/05/2009   \n",
              "\n",
              "       time                                                url  \n",
              "0  06:00:00  http://en.wikipedia.org/wiki/2009_Australian_G...  \n",
              "1  09:00:00  http://en.wikipedia.org/wiki/2009_Malaysian_Gr...  \n",
              "2  07:00:00  http://en.wikipedia.org/wiki/2009_Chinese_Gran...  \n",
              "3  12:00:00  http://en.wikipedia.org/wiki/2009_Bahrain_Gran...  \n",
              "4  12:00:00  http://en.wikipedia.org/wiki/2009_Spanish_Gran...  "
            ],
            "text/html": [
              "\n",
              "  <div id=\"df-1517bc34-b0c9-4a92-b8da-45b52d7d4025\">\n",
              "    <div class=\"colab-df-container\">\n",
              "      <div>\n",
              "<style scoped>\n",
              "    .dataframe tbody tr th:only-of-type {\n",
              "        vertical-align: middle;\n",
              "    }\n",
              "\n",
              "    .dataframe tbody tr th {\n",
              "        vertical-align: top;\n",
              "    }\n",
              "\n",
              "    .dataframe thead th {\n",
              "        text-align: right;\n",
              "    }\n",
              "</style>\n",
              "<table border=\"1\" class=\"dataframe\">\n",
              "  <thead>\n",
              "    <tr style=\"text-align: right;\">\n",
              "      <th></th>\n",
              "      <th>raceId</th>\n",
              "      <th>year</th>\n",
              "      <th>round</th>\n",
              "      <th>circuitId</th>\n",
              "      <th>name</th>\n",
              "      <th>date</th>\n",
              "      <th>time</th>\n",
              "      <th>url</th>\n",
              "    </tr>\n",
              "  </thead>\n",
              "  <tbody>\n",
              "    <tr>\n",
              "      <th>0</th>\n",
              "      <td>1</td>\n",
              "      <td>2009</td>\n",
              "      <td>1</td>\n",
              "      <td>1</td>\n",
              "      <td>Australian Grand Prix</td>\n",
              "      <td>29/03/2009</td>\n",
              "      <td>06:00:00</td>\n",
              "      <td>http://en.wikipedia.org/wiki/2009_Australian_G...</td>\n",
              "    </tr>\n",
              "    <tr>\n",
              "      <th>1</th>\n",
              "      <td>2</td>\n",
              "      <td>2009</td>\n",
              "      <td>2</td>\n",
              "      <td>2</td>\n",
              "      <td>Malaysian Grand Prix</td>\n",
              "      <td>05/04/2009</td>\n",
              "      <td>09:00:00</td>\n",
              "      <td>http://en.wikipedia.org/wiki/2009_Malaysian_Gr...</td>\n",
              "    </tr>\n",
              "    <tr>\n",
              "      <th>2</th>\n",
              "      <td>3</td>\n",
              "      <td>2009</td>\n",
              "      <td>3</td>\n",
              "      <td>17</td>\n",
              "      <td>Chinese Grand Prix</td>\n",
              "      <td>19/04/2009</td>\n",
              "      <td>07:00:00</td>\n",
              "      <td>http://en.wikipedia.org/wiki/2009_Chinese_Gran...</td>\n",
              "    </tr>\n",
              "    <tr>\n",
              "      <th>3</th>\n",
              "      <td>4</td>\n",
              "      <td>2009</td>\n",
              "      <td>4</td>\n",
              "      <td>3</td>\n",
              "      <td>Bahrain Grand Prix</td>\n",
              "      <td>26/04/2009</td>\n",
              "      <td>12:00:00</td>\n",
              "      <td>http://en.wikipedia.org/wiki/2009_Bahrain_Gran...</td>\n",
              "    </tr>\n",
              "    <tr>\n",
              "      <th>4</th>\n",
              "      <td>5</td>\n",
              "      <td>2009</td>\n",
              "      <td>5</td>\n",
              "      <td>4</td>\n",
              "      <td>Spanish Grand Prix</td>\n",
              "      <td>10/05/2009</td>\n",
              "      <td>12:00:00</td>\n",
              "      <td>http://en.wikipedia.org/wiki/2009_Spanish_Gran...</td>\n",
              "    </tr>\n",
              "  </tbody>\n",
              "</table>\n",
              "</div>\n",
              "      <button class=\"colab-df-convert\" onclick=\"convertToInteractive('df-1517bc34-b0c9-4a92-b8da-45b52d7d4025')\"\n",
              "              title=\"Convert this dataframe to an interactive table.\"\n",
              "              style=\"display:none;\">\n",
              "        \n",
              "  <svg xmlns=\"http://www.w3.org/2000/svg\" height=\"24px\"viewBox=\"0 0 24 24\"\n",
              "       width=\"24px\">\n",
              "    <path d=\"M0 0h24v24H0V0z\" fill=\"none\"/>\n",
              "    <path d=\"M18.56 5.44l.94 2.06.94-2.06 2.06-.94-2.06-.94-.94-2.06-.94 2.06-2.06.94zm-11 1L8.5 8.5l.94-2.06 2.06-.94-2.06-.94L8.5 2.5l-.94 2.06-2.06.94zm10 10l.94 2.06.94-2.06 2.06-.94-2.06-.94-.94-2.06-.94 2.06-2.06.94z\"/><path d=\"M17.41 7.96l-1.37-1.37c-.4-.4-.92-.59-1.43-.59-.52 0-1.04.2-1.43.59L10.3 9.45l-7.72 7.72c-.78.78-.78 2.05 0 2.83L4 21.41c.39.39.9.59 1.41.59.51 0 1.02-.2 1.41-.59l7.78-7.78 2.81-2.81c.8-.78.8-2.07 0-2.86zM5.41 20L4 18.59l7.72-7.72 1.47 1.35L5.41 20z\"/>\n",
              "  </svg>\n",
              "      </button>\n",
              "      \n",
              "  <style>\n",
              "    .colab-df-container {\n",
              "      display:flex;\n",
              "      flex-wrap:wrap;\n",
              "      gap: 12px;\n",
              "    }\n",
              "\n",
              "    .colab-df-convert {\n",
              "      background-color: #E8F0FE;\n",
              "      border: none;\n",
              "      border-radius: 50%;\n",
              "      cursor: pointer;\n",
              "      display: none;\n",
              "      fill: #1967D2;\n",
              "      height: 32px;\n",
              "      padding: 0 0 0 0;\n",
              "      width: 32px;\n",
              "    }\n",
              "\n",
              "    .colab-df-convert:hover {\n",
              "      background-color: #E2EBFA;\n",
              "      box-shadow: 0px 1px 2px rgba(60, 64, 67, 0.3), 0px 1px 3px 1px rgba(60, 64, 67, 0.15);\n",
              "      fill: #174EA6;\n",
              "    }\n",
              "\n",
              "    [theme=dark] .colab-df-convert {\n",
              "      background-color: #3B4455;\n",
              "      fill: #D2E3FC;\n",
              "    }\n",
              "\n",
              "    [theme=dark] .colab-df-convert:hover {\n",
              "      background-color: #434B5C;\n",
              "      box-shadow: 0px 1px 3px 1px rgba(0, 0, 0, 0.15);\n",
              "      filter: drop-shadow(0px 1px 2px rgba(0, 0, 0, 0.3));\n",
              "      fill: #FFFFFF;\n",
              "    }\n",
              "  </style>\n",
              "\n",
              "      <script>\n",
              "        const buttonEl =\n",
              "          document.querySelector('#df-1517bc34-b0c9-4a92-b8da-45b52d7d4025 button.colab-df-convert');\n",
              "        buttonEl.style.display =\n",
              "          google.colab.kernel.accessAllowed ? 'block' : 'none';\n",
              "\n",
              "        async function convertToInteractive(key) {\n",
              "          const element = document.querySelector('#df-1517bc34-b0c9-4a92-b8da-45b52d7d4025');\n",
              "          const dataTable =\n",
              "            await google.colab.kernel.invokeFunction('convertToInteractive',\n",
              "                                                     [key], {});\n",
              "          if (!dataTable) return;\n",
              "\n",
              "          const docLinkHtml = 'Like what you see? Visit the ' +\n",
              "            '<a target=\"_blank\" href=https://colab.research.google.com/notebooks/data_table.ipynb>data table notebook</a>'\n",
              "            + ' to learn more about interactive tables.';\n",
              "          element.innerHTML = '';\n",
              "          dataTable['output_type'] = 'display_data';\n",
              "          await google.colab.output.renderOutput(dataTable, element);\n",
              "          const docLink = document.createElement('div');\n",
              "          docLink.innerHTML = docLinkHtml;\n",
              "          element.appendChild(docLink);\n",
              "        }\n",
              "      </script>\n",
              "    </div>\n",
              "  </div>\n",
              "  "
            ]
          },
          "metadata": {},
          "execution_count": 69
        }
      ],
      "source": [
        "# import\n",
        "races = pd.read_csv('/content/drive/My Drive/CodingDojo Data Science/05 Project/races.csv')\n",
        "races.head()"
      ]
    },
    {
      "cell_type": "code",
      "execution_count": 70,
      "metadata": {
        "id": "vmGU91jZbKDf",
        "colab": {
          "base_uri": "https://localhost:8080/",
          "height": 206
        },
        "outputId": "934fe540-c392-4bf2-e80c-243b82fa6ca7"
      },
      "outputs": [
        {
          "output_type": "execute_result",
          "data": {
            "text/plain": [
              "   driverId   driverRef number code  forename     surname         dob  \\\n",
              "0         1    hamilton     44  HAM     Lewis    Hamilton  1985-01-07   \n",
              "1         2    heidfeld     \\N  HEI      Nick    Heidfeld  1977-05-10   \n",
              "2         3     rosberg      6  ROS      Nico     Rosberg  1985-06-27   \n",
              "3         4      alonso     14  ALO  Fernando      Alonso  1981-07-29   \n",
              "4         5  kovalainen     \\N  KOV    Heikki  Kovalainen  1981-10-19   \n",
              "\n",
              "  nationality                                             url  \n",
              "0     British     http://en.wikipedia.org/wiki/Lewis_Hamilton  \n",
              "1      German      http://en.wikipedia.org/wiki/Nick_Heidfeld  \n",
              "2      German       http://en.wikipedia.org/wiki/Nico_Rosberg  \n",
              "3     Spanish    http://en.wikipedia.org/wiki/Fernando_Alonso  \n",
              "4     Finnish  http://en.wikipedia.org/wiki/Heikki_Kovalainen  "
            ],
            "text/html": [
              "\n",
              "  <div id=\"df-c8b76a9d-d636-4660-b488-1f695bdc6607\">\n",
              "    <div class=\"colab-df-container\">\n",
              "      <div>\n",
              "<style scoped>\n",
              "    .dataframe tbody tr th:only-of-type {\n",
              "        vertical-align: middle;\n",
              "    }\n",
              "\n",
              "    .dataframe tbody tr th {\n",
              "        vertical-align: top;\n",
              "    }\n",
              "\n",
              "    .dataframe thead th {\n",
              "        text-align: right;\n",
              "    }\n",
              "</style>\n",
              "<table border=\"1\" class=\"dataframe\">\n",
              "  <thead>\n",
              "    <tr style=\"text-align: right;\">\n",
              "      <th></th>\n",
              "      <th>driverId</th>\n",
              "      <th>driverRef</th>\n",
              "      <th>number</th>\n",
              "      <th>code</th>\n",
              "      <th>forename</th>\n",
              "      <th>surname</th>\n",
              "      <th>dob</th>\n",
              "      <th>nationality</th>\n",
              "      <th>url</th>\n",
              "    </tr>\n",
              "  </thead>\n",
              "  <tbody>\n",
              "    <tr>\n",
              "      <th>0</th>\n",
              "      <td>1</td>\n",
              "      <td>hamilton</td>\n",
              "      <td>44</td>\n",
              "      <td>HAM</td>\n",
              "      <td>Lewis</td>\n",
              "      <td>Hamilton</td>\n",
              "      <td>1985-01-07</td>\n",
              "      <td>British</td>\n",
              "      <td>http://en.wikipedia.org/wiki/Lewis_Hamilton</td>\n",
              "    </tr>\n",
              "    <tr>\n",
              "      <th>1</th>\n",
              "      <td>2</td>\n",
              "      <td>heidfeld</td>\n",
              "      <td>\\N</td>\n",
              "      <td>HEI</td>\n",
              "      <td>Nick</td>\n",
              "      <td>Heidfeld</td>\n",
              "      <td>1977-05-10</td>\n",
              "      <td>German</td>\n",
              "      <td>http://en.wikipedia.org/wiki/Nick_Heidfeld</td>\n",
              "    </tr>\n",
              "    <tr>\n",
              "      <th>2</th>\n",
              "      <td>3</td>\n",
              "      <td>rosberg</td>\n",
              "      <td>6</td>\n",
              "      <td>ROS</td>\n",
              "      <td>Nico</td>\n",
              "      <td>Rosberg</td>\n",
              "      <td>1985-06-27</td>\n",
              "      <td>German</td>\n",
              "      <td>http://en.wikipedia.org/wiki/Nico_Rosberg</td>\n",
              "    </tr>\n",
              "    <tr>\n",
              "      <th>3</th>\n",
              "      <td>4</td>\n",
              "      <td>alonso</td>\n",
              "      <td>14</td>\n",
              "      <td>ALO</td>\n",
              "      <td>Fernando</td>\n",
              "      <td>Alonso</td>\n",
              "      <td>1981-07-29</td>\n",
              "      <td>Spanish</td>\n",
              "      <td>http://en.wikipedia.org/wiki/Fernando_Alonso</td>\n",
              "    </tr>\n",
              "    <tr>\n",
              "      <th>4</th>\n",
              "      <td>5</td>\n",
              "      <td>kovalainen</td>\n",
              "      <td>\\N</td>\n",
              "      <td>KOV</td>\n",
              "      <td>Heikki</td>\n",
              "      <td>Kovalainen</td>\n",
              "      <td>1981-10-19</td>\n",
              "      <td>Finnish</td>\n",
              "      <td>http://en.wikipedia.org/wiki/Heikki_Kovalainen</td>\n",
              "    </tr>\n",
              "  </tbody>\n",
              "</table>\n",
              "</div>\n",
              "      <button class=\"colab-df-convert\" onclick=\"convertToInteractive('df-c8b76a9d-d636-4660-b488-1f695bdc6607')\"\n",
              "              title=\"Convert this dataframe to an interactive table.\"\n",
              "              style=\"display:none;\">\n",
              "        \n",
              "  <svg xmlns=\"http://www.w3.org/2000/svg\" height=\"24px\"viewBox=\"0 0 24 24\"\n",
              "       width=\"24px\">\n",
              "    <path d=\"M0 0h24v24H0V0z\" fill=\"none\"/>\n",
              "    <path d=\"M18.56 5.44l.94 2.06.94-2.06 2.06-.94-2.06-.94-.94-2.06-.94 2.06-2.06.94zm-11 1L8.5 8.5l.94-2.06 2.06-.94-2.06-.94L8.5 2.5l-.94 2.06-2.06.94zm10 10l.94 2.06.94-2.06 2.06-.94-2.06-.94-.94-2.06-.94 2.06-2.06.94z\"/><path d=\"M17.41 7.96l-1.37-1.37c-.4-.4-.92-.59-1.43-.59-.52 0-1.04.2-1.43.59L10.3 9.45l-7.72 7.72c-.78.78-.78 2.05 0 2.83L4 21.41c.39.39.9.59 1.41.59.51 0 1.02-.2 1.41-.59l7.78-7.78 2.81-2.81c.8-.78.8-2.07 0-2.86zM5.41 20L4 18.59l7.72-7.72 1.47 1.35L5.41 20z\"/>\n",
              "  </svg>\n",
              "      </button>\n",
              "      \n",
              "  <style>\n",
              "    .colab-df-container {\n",
              "      display:flex;\n",
              "      flex-wrap:wrap;\n",
              "      gap: 12px;\n",
              "    }\n",
              "\n",
              "    .colab-df-convert {\n",
              "      background-color: #E8F0FE;\n",
              "      border: none;\n",
              "      border-radius: 50%;\n",
              "      cursor: pointer;\n",
              "      display: none;\n",
              "      fill: #1967D2;\n",
              "      height: 32px;\n",
              "      padding: 0 0 0 0;\n",
              "      width: 32px;\n",
              "    }\n",
              "\n",
              "    .colab-df-convert:hover {\n",
              "      background-color: #E2EBFA;\n",
              "      box-shadow: 0px 1px 2px rgba(60, 64, 67, 0.3), 0px 1px 3px 1px rgba(60, 64, 67, 0.15);\n",
              "      fill: #174EA6;\n",
              "    }\n",
              "\n",
              "    [theme=dark] .colab-df-convert {\n",
              "      background-color: #3B4455;\n",
              "      fill: #D2E3FC;\n",
              "    }\n",
              "\n",
              "    [theme=dark] .colab-df-convert:hover {\n",
              "      background-color: #434B5C;\n",
              "      box-shadow: 0px 1px 3px 1px rgba(0, 0, 0, 0.15);\n",
              "      filter: drop-shadow(0px 1px 2px rgba(0, 0, 0, 0.3));\n",
              "      fill: #FFFFFF;\n",
              "    }\n",
              "  </style>\n",
              "\n",
              "      <script>\n",
              "        const buttonEl =\n",
              "          document.querySelector('#df-c8b76a9d-d636-4660-b488-1f695bdc6607 button.colab-df-convert');\n",
              "        buttonEl.style.display =\n",
              "          google.colab.kernel.accessAllowed ? 'block' : 'none';\n",
              "\n",
              "        async function convertToInteractive(key) {\n",
              "          const element = document.querySelector('#df-c8b76a9d-d636-4660-b488-1f695bdc6607');\n",
              "          const dataTable =\n",
              "            await google.colab.kernel.invokeFunction('convertToInteractive',\n",
              "                                                     [key], {});\n",
              "          if (!dataTable) return;\n",
              "\n",
              "          const docLinkHtml = 'Like what you see? Visit the ' +\n",
              "            '<a target=\"_blank\" href=https://colab.research.google.com/notebooks/data_table.ipynb>data table notebook</a>'\n",
              "            + ' to learn more about interactive tables.';\n",
              "          element.innerHTML = '';\n",
              "          dataTable['output_type'] = 'display_data';\n",
              "          await google.colab.output.renderOutput(dataTable, element);\n",
              "          const docLink = document.createElement('div');\n",
              "          docLink.innerHTML = docLinkHtml;\n",
              "          element.appendChild(docLink);\n",
              "        }\n",
              "      </script>\n",
              "    </div>\n",
              "  </div>\n",
              "  "
            ]
          },
          "metadata": {},
          "execution_count": 70
        }
      ],
      "source": [
        "# import\n",
        "drivers = pd.read_csv('/content/drive/My Drive/CodingDojo Data Science/05 Project/drivers.csv')\n",
        "drivers.head()"
      ]
    },
    {
      "cell_type": "code",
      "execution_count": 71,
      "metadata": {
        "id": "wU-jxvrCfKjQ",
        "colab": {
          "base_uri": "https://localhost:8080/",
          "height": 206
        },
        "outputId": "6330423b-0cf1-4488-fdcd-f99d8b09da4c"
      },
      "outputs": [
        {
          "output_type": "execute_result",
          "data": {
            "text/plain": [
              "   constructorId constructorRef        name nationality  \\\n",
              "0              1        mclaren     McLaren     British   \n",
              "1              2     bmw_sauber  BMW Sauber      German   \n",
              "2              3       williams    Williams     British   \n",
              "3              4        renault     Renault      French   \n",
              "4              5     toro_rosso  Toro Rosso     Italian   \n",
              "\n",
              "                                                 url  \n",
              "0               http://en.wikipedia.org/wiki/McLaren  \n",
              "1            http://en.wikipedia.org/wiki/BMW_Sauber  \n",
              "2  http://en.wikipedia.org/wiki/Williams_Grand_Pr...  \n",
              "3  http://en.wikipedia.org/wiki/Renault_in_Formul...  \n",
              "4   http://en.wikipedia.org/wiki/Scuderia_Toro_Rosso  "
            ],
            "text/html": [
              "\n",
              "  <div id=\"df-ee3cdaa9-6810-4bd5-85b5-ae214272a374\">\n",
              "    <div class=\"colab-df-container\">\n",
              "      <div>\n",
              "<style scoped>\n",
              "    .dataframe tbody tr th:only-of-type {\n",
              "        vertical-align: middle;\n",
              "    }\n",
              "\n",
              "    .dataframe tbody tr th {\n",
              "        vertical-align: top;\n",
              "    }\n",
              "\n",
              "    .dataframe thead th {\n",
              "        text-align: right;\n",
              "    }\n",
              "</style>\n",
              "<table border=\"1\" class=\"dataframe\">\n",
              "  <thead>\n",
              "    <tr style=\"text-align: right;\">\n",
              "      <th></th>\n",
              "      <th>constructorId</th>\n",
              "      <th>constructorRef</th>\n",
              "      <th>name</th>\n",
              "      <th>nationality</th>\n",
              "      <th>url</th>\n",
              "    </tr>\n",
              "  </thead>\n",
              "  <tbody>\n",
              "    <tr>\n",
              "      <th>0</th>\n",
              "      <td>1</td>\n",
              "      <td>mclaren</td>\n",
              "      <td>McLaren</td>\n",
              "      <td>British</td>\n",
              "      <td>http://en.wikipedia.org/wiki/McLaren</td>\n",
              "    </tr>\n",
              "    <tr>\n",
              "      <th>1</th>\n",
              "      <td>2</td>\n",
              "      <td>bmw_sauber</td>\n",
              "      <td>BMW Sauber</td>\n",
              "      <td>German</td>\n",
              "      <td>http://en.wikipedia.org/wiki/BMW_Sauber</td>\n",
              "    </tr>\n",
              "    <tr>\n",
              "      <th>2</th>\n",
              "      <td>3</td>\n",
              "      <td>williams</td>\n",
              "      <td>Williams</td>\n",
              "      <td>British</td>\n",
              "      <td>http://en.wikipedia.org/wiki/Williams_Grand_Pr...</td>\n",
              "    </tr>\n",
              "    <tr>\n",
              "      <th>3</th>\n",
              "      <td>4</td>\n",
              "      <td>renault</td>\n",
              "      <td>Renault</td>\n",
              "      <td>French</td>\n",
              "      <td>http://en.wikipedia.org/wiki/Renault_in_Formul...</td>\n",
              "    </tr>\n",
              "    <tr>\n",
              "      <th>4</th>\n",
              "      <td>5</td>\n",
              "      <td>toro_rosso</td>\n",
              "      <td>Toro Rosso</td>\n",
              "      <td>Italian</td>\n",
              "      <td>http://en.wikipedia.org/wiki/Scuderia_Toro_Rosso</td>\n",
              "    </tr>\n",
              "  </tbody>\n",
              "</table>\n",
              "</div>\n",
              "      <button class=\"colab-df-convert\" onclick=\"convertToInteractive('df-ee3cdaa9-6810-4bd5-85b5-ae214272a374')\"\n",
              "              title=\"Convert this dataframe to an interactive table.\"\n",
              "              style=\"display:none;\">\n",
              "        \n",
              "  <svg xmlns=\"http://www.w3.org/2000/svg\" height=\"24px\"viewBox=\"0 0 24 24\"\n",
              "       width=\"24px\">\n",
              "    <path d=\"M0 0h24v24H0V0z\" fill=\"none\"/>\n",
              "    <path d=\"M18.56 5.44l.94 2.06.94-2.06 2.06-.94-2.06-.94-.94-2.06-.94 2.06-2.06.94zm-11 1L8.5 8.5l.94-2.06 2.06-.94-2.06-.94L8.5 2.5l-.94 2.06-2.06.94zm10 10l.94 2.06.94-2.06 2.06-.94-2.06-.94-.94-2.06-.94 2.06-2.06.94z\"/><path d=\"M17.41 7.96l-1.37-1.37c-.4-.4-.92-.59-1.43-.59-.52 0-1.04.2-1.43.59L10.3 9.45l-7.72 7.72c-.78.78-.78 2.05 0 2.83L4 21.41c.39.39.9.59 1.41.59.51 0 1.02-.2 1.41-.59l7.78-7.78 2.81-2.81c.8-.78.8-2.07 0-2.86zM5.41 20L4 18.59l7.72-7.72 1.47 1.35L5.41 20z\"/>\n",
              "  </svg>\n",
              "      </button>\n",
              "      \n",
              "  <style>\n",
              "    .colab-df-container {\n",
              "      display:flex;\n",
              "      flex-wrap:wrap;\n",
              "      gap: 12px;\n",
              "    }\n",
              "\n",
              "    .colab-df-convert {\n",
              "      background-color: #E8F0FE;\n",
              "      border: none;\n",
              "      border-radius: 50%;\n",
              "      cursor: pointer;\n",
              "      display: none;\n",
              "      fill: #1967D2;\n",
              "      height: 32px;\n",
              "      padding: 0 0 0 0;\n",
              "      width: 32px;\n",
              "    }\n",
              "\n",
              "    .colab-df-convert:hover {\n",
              "      background-color: #E2EBFA;\n",
              "      box-shadow: 0px 1px 2px rgba(60, 64, 67, 0.3), 0px 1px 3px 1px rgba(60, 64, 67, 0.15);\n",
              "      fill: #174EA6;\n",
              "    }\n",
              "\n",
              "    [theme=dark] .colab-df-convert {\n",
              "      background-color: #3B4455;\n",
              "      fill: #D2E3FC;\n",
              "    }\n",
              "\n",
              "    [theme=dark] .colab-df-convert:hover {\n",
              "      background-color: #434B5C;\n",
              "      box-shadow: 0px 1px 3px 1px rgba(0, 0, 0, 0.15);\n",
              "      filter: drop-shadow(0px 1px 2px rgba(0, 0, 0, 0.3));\n",
              "      fill: #FFFFFF;\n",
              "    }\n",
              "  </style>\n",
              "\n",
              "      <script>\n",
              "        const buttonEl =\n",
              "          document.querySelector('#df-ee3cdaa9-6810-4bd5-85b5-ae214272a374 button.colab-df-convert');\n",
              "        buttonEl.style.display =\n",
              "          google.colab.kernel.accessAllowed ? 'block' : 'none';\n",
              "\n",
              "        async function convertToInteractive(key) {\n",
              "          const element = document.querySelector('#df-ee3cdaa9-6810-4bd5-85b5-ae214272a374');\n",
              "          const dataTable =\n",
              "            await google.colab.kernel.invokeFunction('convertToInteractive',\n",
              "                                                     [key], {});\n",
              "          if (!dataTable) return;\n",
              "\n",
              "          const docLinkHtml = 'Like what you see? Visit the ' +\n",
              "            '<a target=\"_blank\" href=https://colab.research.google.com/notebooks/data_table.ipynb>data table notebook</a>'\n",
              "            + ' to learn more about interactive tables.';\n",
              "          element.innerHTML = '';\n",
              "          dataTable['output_type'] = 'display_data';\n",
              "          await google.colab.output.renderOutput(dataTable, element);\n",
              "          const docLink = document.createElement('div');\n",
              "          docLink.innerHTML = docLinkHtml;\n",
              "          element.appendChild(docLink);\n",
              "        }\n",
              "      </script>\n",
              "    </div>\n",
              "  </div>\n",
              "  "
            ]
          },
          "metadata": {},
          "execution_count": 71
        }
      ],
      "source": [
        "# import\n",
        "constructors = pd.read_csv('/content/drive/My Drive/CodingDojo Data Science/05 Project/constructors.csv')\n",
        "constructors.head()"
      ]
    },
    {
      "cell_type": "code",
      "execution_count": 72,
      "metadata": {
        "id": "1r6BIXu6bLXa",
        "colab": {
          "base_uri": "https://localhost:8080/",
          "height": 270
        },
        "outputId": "1b735121-0457-48bc-e9a5-cae4347658d7"
      },
      "outputs": [
        {
          "output_type": "execute_result",
          "data": {
            "text/plain": [
              "   resultId  raceId  driverId  constructorId number  grid position  \\\n",
              "0         1      18         1              1     22     1        1   \n",
              "1         2      18         2              2      3     5        2   \n",
              "2         3      18         3              3      7     7        3   \n",
              "3         4      18         4              4      5    11        4   \n",
              "4         5      18         5              1     23     3        5   \n",
              "\n",
              "  positionText  positionOrder  points  laps         time milliseconds  \\\n",
              "0            1              1    10.0    58  1:34:50.616      5690616   \n",
              "1            2              2     8.0    58       +5.478      5696094   \n",
              "2            3              3     6.0    58       +8.163      5698779   \n",
              "3            4              4     5.0    58      +17.181      5707797   \n",
              "4            5              5     4.0    58      +18.014      5708630   \n",
              "\n",
              "  fastestLap rank fastestLapTime fastestLapSpeed  statusId  \n",
              "0         39    2       1:27.452         218.300         1  \n",
              "1         41    3       1:27.739         217.586         1  \n",
              "2         41    5       1:28.090         216.719         1  \n",
              "3         58    7       1:28.603         215.464         1  \n",
              "4         43    1       1:27.418         218.385         1  "
            ],
            "text/html": [
              "\n",
              "  <div id=\"df-f448ac33-973c-4683-bb13-4fb4658d81ef\">\n",
              "    <div class=\"colab-df-container\">\n",
              "      <div>\n",
              "<style scoped>\n",
              "    .dataframe tbody tr th:only-of-type {\n",
              "        vertical-align: middle;\n",
              "    }\n",
              "\n",
              "    .dataframe tbody tr th {\n",
              "        vertical-align: top;\n",
              "    }\n",
              "\n",
              "    .dataframe thead th {\n",
              "        text-align: right;\n",
              "    }\n",
              "</style>\n",
              "<table border=\"1\" class=\"dataframe\">\n",
              "  <thead>\n",
              "    <tr style=\"text-align: right;\">\n",
              "      <th></th>\n",
              "      <th>resultId</th>\n",
              "      <th>raceId</th>\n",
              "      <th>driverId</th>\n",
              "      <th>constructorId</th>\n",
              "      <th>number</th>\n",
              "      <th>grid</th>\n",
              "      <th>position</th>\n",
              "      <th>positionText</th>\n",
              "      <th>positionOrder</th>\n",
              "      <th>points</th>\n",
              "      <th>laps</th>\n",
              "      <th>time</th>\n",
              "      <th>milliseconds</th>\n",
              "      <th>fastestLap</th>\n",
              "      <th>rank</th>\n",
              "      <th>fastestLapTime</th>\n",
              "      <th>fastestLapSpeed</th>\n",
              "      <th>statusId</th>\n",
              "    </tr>\n",
              "  </thead>\n",
              "  <tbody>\n",
              "    <tr>\n",
              "      <th>0</th>\n",
              "      <td>1</td>\n",
              "      <td>18</td>\n",
              "      <td>1</td>\n",
              "      <td>1</td>\n",
              "      <td>22</td>\n",
              "      <td>1</td>\n",
              "      <td>1</td>\n",
              "      <td>1</td>\n",
              "      <td>1</td>\n",
              "      <td>10.0</td>\n",
              "      <td>58</td>\n",
              "      <td>1:34:50.616</td>\n",
              "      <td>5690616</td>\n",
              "      <td>39</td>\n",
              "      <td>2</td>\n",
              "      <td>1:27.452</td>\n",
              "      <td>218.300</td>\n",
              "      <td>1</td>\n",
              "    </tr>\n",
              "    <tr>\n",
              "      <th>1</th>\n",
              "      <td>2</td>\n",
              "      <td>18</td>\n",
              "      <td>2</td>\n",
              "      <td>2</td>\n",
              "      <td>3</td>\n",
              "      <td>5</td>\n",
              "      <td>2</td>\n",
              "      <td>2</td>\n",
              "      <td>2</td>\n",
              "      <td>8.0</td>\n",
              "      <td>58</td>\n",
              "      <td>+5.478</td>\n",
              "      <td>5696094</td>\n",
              "      <td>41</td>\n",
              "      <td>3</td>\n",
              "      <td>1:27.739</td>\n",
              "      <td>217.586</td>\n",
              "      <td>1</td>\n",
              "    </tr>\n",
              "    <tr>\n",
              "      <th>2</th>\n",
              "      <td>3</td>\n",
              "      <td>18</td>\n",
              "      <td>3</td>\n",
              "      <td>3</td>\n",
              "      <td>7</td>\n",
              "      <td>7</td>\n",
              "      <td>3</td>\n",
              "      <td>3</td>\n",
              "      <td>3</td>\n",
              "      <td>6.0</td>\n",
              "      <td>58</td>\n",
              "      <td>+8.163</td>\n",
              "      <td>5698779</td>\n",
              "      <td>41</td>\n",
              "      <td>5</td>\n",
              "      <td>1:28.090</td>\n",
              "      <td>216.719</td>\n",
              "      <td>1</td>\n",
              "    </tr>\n",
              "    <tr>\n",
              "      <th>3</th>\n",
              "      <td>4</td>\n",
              "      <td>18</td>\n",
              "      <td>4</td>\n",
              "      <td>4</td>\n",
              "      <td>5</td>\n",
              "      <td>11</td>\n",
              "      <td>4</td>\n",
              "      <td>4</td>\n",
              "      <td>4</td>\n",
              "      <td>5.0</td>\n",
              "      <td>58</td>\n",
              "      <td>+17.181</td>\n",
              "      <td>5707797</td>\n",
              "      <td>58</td>\n",
              "      <td>7</td>\n",
              "      <td>1:28.603</td>\n",
              "      <td>215.464</td>\n",
              "      <td>1</td>\n",
              "    </tr>\n",
              "    <tr>\n",
              "      <th>4</th>\n",
              "      <td>5</td>\n",
              "      <td>18</td>\n",
              "      <td>5</td>\n",
              "      <td>1</td>\n",
              "      <td>23</td>\n",
              "      <td>3</td>\n",
              "      <td>5</td>\n",
              "      <td>5</td>\n",
              "      <td>5</td>\n",
              "      <td>4.0</td>\n",
              "      <td>58</td>\n",
              "      <td>+18.014</td>\n",
              "      <td>5708630</td>\n",
              "      <td>43</td>\n",
              "      <td>1</td>\n",
              "      <td>1:27.418</td>\n",
              "      <td>218.385</td>\n",
              "      <td>1</td>\n",
              "    </tr>\n",
              "  </tbody>\n",
              "</table>\n",
              "</div>\n",
              "      <button class=\"colab-df-convert\" onclick=\"convertToInteractive('df-f448ac33-973c-4683-bb13-4fb4658d81ef')\"\n",
              "              title=\"Convert this dataframe to an interactive table.\"\n",
              "              style=\"display:none;\">\n",
              "        \n",
              "  <svg xmlns=\"http://www.w3.org/2000/svg\" height=\"24px\"viewBox=\"0 0 24 24\"\n",
              "       width=\"24px\">\n",
              "    <path d=\"M0 0h24v24H0V0z\" fill=\"none\"/>\n",
              "    <path d=\"M18.56 5.44l.94 2.06.94-2.06 2.06-.94-2.06-.94-.94-2.06-.94 2.06-2.06.94zm-11 1L8.5 8.5l.94-2.06 2.06-.94-2.06-.94L8.5 2.5l-.94 2.06-2.06.94zm10 10l.94 2.06.94-2.06 2.06-.94-2.06-.94-.94-2.06-.94 2.06-2.06.94z\"/><path d=\"M17.41 7.96l-1.37-1.37c-.4-.4-.92-.59-1.43-.59-.52 0-1.04.2-1.43.59L10.3 9.45l-7.72 7.72c-.78.78-.78 2.05 0 2.83L4 21.41c.39.39.9.59 1.41.59.51 0 1.02-.2 1.41-.59l7.78-7.78 2.81-2.81c.8-.78.8-2.07 0-2.86zM5.41 20L4 18.59l7.72-7.72 1.47 1.35L5.41 20z\"/>\n",
              "  </svg>\n",
              "      </button>\n",
              "      \n",
              "  <style>\n",
              "    .colab-df-container {\n",
              "      display:flex;\n",
              "      flex-wrap:wrap;\n",
              "      gap: 12px;\n",
              "    }\n",
              "\n",
              "    .colab-df-convert {\n",
              "      background-color: #E8F0FE;\n",
              "      border: none;\n",
              "      border-radius: 50%;\n",
              "      cursor: pointer;\n",
              "      display: none;\n",
              "      fill: #1967D2;\n",
              "      height: 32px;\n",
              "      padding: 0 0 0 0;\n",
              "      width: 32px;\n",
              "    }\n",
              "\n",
              "    .colab-df-convert:hover {\n",
              "      background-color: #E2EBFA;\n",
              "      box-shadow: 0px 1px 2px rgba(60, 64, 67, 0.3), 0px 1px 3px 1px rgba(60, 64, 67, 0.15);\n",
              "      fill: #174EA6;\n",
              "    }\n",
              "\n",
              "    [theme=dark] .colab-df-convert {\n",
              "      background-color: #3B4455;\n",
              "      fill: #D2E3FC;\n",
              "    }\n",
              "\n",
              "    [theme=dark] .colab-df-convert:hover {\n",
              "      background-color: #434B5C;\n",
              "      box-shadow: 0px 1px 3px 1px rgba(0, 0, 0, 0.15);\n",
              "      filter: drop-shadow(0px 1px 2px rgba(0, 0, 0, 0.3));\n",
              "      fill: #FFFFFF;\n",
              "    }\n",
              "  </style>\n",
              "\n",
              "      <script>\n",
              "        const buttonEl =\n",
              "          document.querySelector('#df-f448ac33-973c-4683-bb13-4fb4658d81ef button.colab-df-convert');\n",
              "        buttonEl.style.display =\n",
              "          google.colab.kernel.accessAllowed ? 'block' : 'none';\n",
              "\n",
              "        async function convertToInteractive(key) {\n",
              "          const element = document.querySelector('#df-f448ac33-973c-4683-bb13-4fb4658d81ef');\n",
              "          const dataTable =\n",
              "            await google.colab.kernel.invokeFunction('convertToInteractive',\n",
              "                                                     [key], {});\n",
              "          if (!dataTable) return;\n",
              "\n",
              "          const docLinkHtml = 'Like what you see? Visit the ' +\n",
              "            '<a target=\"_blank\" href=https://colab.research.google.com/notebooks/data_table.ipynb>data table notebook</a>'\n",
              "            + ' to learn more about interactive tables.';\n",
              "          element.innerHTML = '';\n",
              "          dataTable['output_type'] = 'display_data';\n",
              "          await google.colab.output.renderOutput(dataTable, element);\n",
              "          const docLink = document.createElement('div');\n",
              "          docLink.innerHTML = docLinkHtml;\n",
              "          element.appendChild(docLink);\n",
              "        }\n",
              "      </script>\n",
              "    </div>\n",
              "  </div>\n",
              "  "
            ]
          },
          "metadata": {},
          "execution_count": 72
        }
      ],
      "source": [
        "# import\n",
        "results = pd.read_csv('/content/drive/My Drive/CodingDojo Data Science/05 Project/results.csv')\n",
        "results.head()"
      ]
    },
    {
      "cell_type": "code",
      "execution_count": 73,
      "metadata": {
        "id": "ZXuN-8h3fk00",
        "colab": {
          "base_uri": "https://localhost:8080/",
          "height": 473
        },
        "outputId": "e4531811-b4d2-475c-9016-274f30497959"
      },
      "outputs": [
        {
          "output_type": "execute_result",
          "data": {
            "text/plain": [
              "   resultId  raceId  driverId  constructorId number  grid position  \\\n",
              "0         1      18         1              1     22     1        1   \n",
              "1         2      18         2              2      3     5        2   \n",
              "2         3      18         3              3      7     7        3   \n",
              "3         4      18         4              4      5    11        4   \n",
              "4         5      18         5              1     23     3        5   \n",
              "\n",
              "  positionText  positionOrder  points  ...  fastestLapTime fastestLapSpeed  \\\n",
              "0            1              1    10.0  ...        1:27.452         218.300   \n",
              "1            2              2     8.0  ...        1:27.739         217.586   \n",
              "2            3              3     6.0  ...        1:28.090         216.719   \n",
              "3            4              4     5.0  ...        1:28.603         215.464   \n",
              "4            5              5     4.0  ...        1:27.418         218.385   \n",
              "\n",
              "  statusId  year                 name_x round   driverRef  nationality_x  \\\n",
              "0        1  2008  Australian Grand Prix     1    hamilton        British   \n",
              "1        1  2008  Australian Grand Prix     1    heidfeld         German   \n",
              "2        1  2008  Australian Grand Prix     1     rosberg         German   \n",
              "3        1  2008  Australian Grand Prix     1      alonso        Spanish   \n",
              "4        1  2008  Australian Grand Prix     1  kovalainen        Finnish   \n",
              "\n",
              "       name_y nationality_y  \n",
              "0     McLaren       British  \n",
              "1  BMW Sauber        German  \n",
              "2    Williams       British  \n",
              "3     Renault        French  \n",
              "4     McLaren       British  \n",
              "\n",
              "[5 rows x 25 columns]"
            ],
            "text/html": [
              "\n",
              "  <div id=\"df-d3eb3690-6b5d-44de-9227-86e6badbf738\">\n",
              "    <div class=\"colab-df-container\">\n",
              "      <div>\n",
              "<style scoped>\n",
              "    .dataframe tbody tr th:only-of-type {\n",
              "        vertical-align: middle;\n",
              "    }\n",
              "\n",
              "    .dataframe tbody tr th {\n",
              "        vertical-align: top;\n",
              "    }\n",
              "\n",
              "    .dataframe thead th {\n",
              "        text-align: right;\n",
              "    }\n",
              "</style>\n",
              "<table border=\"1\" class=\"dataframe\">\n",
              "  <thead>\n",
              "    <tr style=\"text-align: right;\">\n",
              "      <th></th>\n",
              "      <th>resultId</th>\n",
              "      <th>raceId</th>\n",
              "      <th>driverId</th>\n",
              "      <th>constructorId</th>\n",
              "      <th>number</th>\n",
              "      <th>grid</th>\n",
              "      <th>position</th>\n",
              "      <th>positionText</th>\n",
              "      <th>positionOrder</th>\n",
              "      <th>points</th>\n",
              "      <th>...</th>\n",
              "      <th>fastestLapTime</th>\n",
              "      <th>fastestLapSpeed</th>\n",
              "      <th>statusId</th>\n",
              "      <th>year</th>\n",
              "      <th>name_x</th>\n",
              "      <th>round</th>\n",
              "      <th>driverRef</th>\n",
              "      <th>nationality_x</th>\n",
              "      <th>name_y</th>\n",
              "      <th>nationality_y</th>\n",
              "    </tr>\n",
              "  </thead>\n",
              "  <tbody>\n",
              "    <tr>\n",
              "      <th>0</th>\n",
              "      <td>1</td>\n",
              "      <td>18</td>\n",
              "      <td>1</td>\n",
              "      <td>1</td>\n",
              "      <td>22</td>\n",
              "      <td>1</td>\n",
              "      <td>1</td>\n",
              "      <td>1</td>\n",
              "      <td>1</td>\n",
              "      <td>10.0</td>\n",
              "      <td>...</td>\n",
              "      <td>1:27.452</td>\n",
              "      <td>218.300</td>\n",
              "      <td>1</td>\n",
              "      <td>2008</td>\n",
              "      <td>Australian Grand Prix</td>\n",
              "      <td>1</td>\n",
              "      <td>hamilton</td>\n",
              "      <td>British</td>\n",
              "      <td>McLaren</td>\n",
              "      <td>British</td>\n",
              "    </tr>\n",
              "    <tr>\n",
              "      <th>1</th>\n",
              "      <td>2</td>\n",
              "      <td>18</td>\n",
              "      <td>2</td>\n",
              "      <td>2</td>\n",
              "      <td>3</td>\n",
              "      <td>5</td>\n",
              "      <td>2</td>\n",
              "      <td>2</td>\n",
              "      <td>2</td>\n",
              "      <td>8.0</td>\n",
              "      <td>...</td>\n",
              "      <td>1:27.739</td>\n",
              "      <td>217.586</td>\n",
              "      <td>1</td>\n",
              "      <td>2008</td>\n",
              "      <td>Australian Grand Prix</td>\n",
              "      <td>1</td>\n",
              "      <td>heidfeld</td>\n",
              "      <td>German</td>\n",
              "      <td>BMW Sauber</td>\n",
              "      <td>German</td>\n",
              "    </tr>\n",
              "    <tr>\n",
              "      <th>2</th>\n",
              "      <td>3</td>\n",
              "      <td>18</td>\n",
              "      <td>3</td>\n",
              "      <td>3</td>\n",
              "      <td>7</td>\n",
              "      <td>7</td>\n",
              "      <td>3</td>\n",
              "      <td>3</td>\n",
              "      <td>3</td>\n",
              "      <td>6.0</td>\n",
              "      <td>...</td>\n",
              "      <td>1:28.090</td>\n",
              "      <td>216.719</td>\n",
              "      <td>1</td>\n",
              "      <td>2008</td>\n",
              "      <td>Australian Grand Prix</td>\n",
              "      <td>1</td>\n",
              "      <td>rosberg</td>\n",
              "      <td>German</td>\n",
              "      <td>Williams</td>\n",
              "      <td>British</td>\n",
              "    </tr>\n",
              "    <tr>\n",
              "      <th>3</th>\n",
              "      <td>4</td>\n",
              "      <td>18</td>\n",
              "      <td>4</td>\n",
              "      <td>4</td>\n",
              "      <td>5</td>\n",
              "      <td>11</td>\n",
              "      <td>4</td>\n",
              "      <td>4</td>\n",
              "      <td>4</td>\n",
              "      <td>5.0</td>\n",
              "      <td>...</td>\n",
              "      <td>1:28.603</td>\n",
              "      <td>215.464</td>\n",
              "      <td>1</td>\n",
              "      <td>2008</td>\n",
              "      <td>Australian Grand Prix</td>\n",
              "      <td>1</td>\n",
              "      <td>alonso</td>\n",
              "      <td>Spanish</td>\n",
              "      <td>Renault</td>\n",
              "      <td>French</td>\n",
              "    </tr>\n",
              "    <tr>\n",
              "      <th>4</th>\n",
              "      <td>5</td>\n",
              "      <td>18</td>\n",
              "      <td>5</td>\n",
              "      <td>1</td>\n",
              "      <td>23</td>\n",
              "      <td>3</td>\n",
              "      <td>5</td>\n",
              "      <td>5</td>\n",
              "      <td>5</td>\n",
              "      <td>4.0</td>\n",
              "      <td>...</td>\n",
              "      <td>1:27.418</td>\n",
              "      <td>218.385</td>\n",
              "      <td>1</td>\n",
              "      <td>2008</td>\n",
              "      <td>Australian Grand Prix</td>\n",
              "      <td>1</td>\n",
              "      <td>kovalainen</td>\n",
              "      <td>Finnish</td>\n",
              "      <td>McLaren</td>\n",
              "      <td>British</td>\n",
              "    </tr>\n",
              "  </tbody>\n",
              "</table>\n",
              "<p>5 rows × 25 columns</p>\n",
              "</div>\n",
              "      <button class=\"colab-df-convert\" onclick=\"convertToInteractive('df-d3eb3690-6b5d-44de-9227-86e6badbf738')\"\n",
              "              title=\"Convert this dataframe to an interactive table.\"\n",
              "              style=\"display:none;\">\n",
              "        \n",
              "  <svg xmlns=\"http://www.w3.org/2000/svg\" height=\"24px\"viewBox=\"0 0 24 24\"\n",
              "       width=\"24px\">\n",
              "    <path d=\"M0 0h24v24H0V0z\" fill=\"none\"/>\n",
              "    <path d=\"M18.56 5.44l.94 2.06.94-2.06 2.06-.94-2.06-.94-.94-2.06-.94 2.06-2.06.94zm-11 1L8.5 8.5l.94-2.06 2.06-.94-2.06-.94L8.5 2.5l-.94 2.06-2.06.94zm10 10l.94 2.06.94-2.06 2.06-.94-2.06-.94-.94-2.06-.94 2.06-2.06.94z\"/><path d=\"M17.41 7.96l-1.37-1.37c-.4-.4-.92-.59-1.43-.59-.52 0-1.04.2-1.43.59L10.3 9.45l-7.72 7.72c-.78.78-.78 2.05 0 2.83L4 21.41c.39.39.9.59 1.41.59.51 0 1.02-.2 1.41-.59l7.78-7.78 2.81-2.81c.8-.78.8-2.07 0-2.86zM5.41 20L4 18.59l7.72-7.72 1.47 1.35L5.41 20z\"/>\n",
              "  </svg>\n",
              "      </button>\n",
              "      \n",
              "  <style>\n",
              "    .colab-df-container {\n",
              "      display:flex;\n",
              "      flex-wrap:wrap;\n",
              "      gap: 12px;\n",
              "    }\n",
              "\n",
              "    .colab-df-convert {\n",
              "      background-color: #E8F0FE;\n",
              "      border: none;\n",
              "      border-radius: 50%;\n",
              "      cursor: pointer;\n",
              "      display: none;\n",
              "      fill: #1967D2;\n",
              "      height: 32px;\n",
              "      padding: 0 0 0 0;\n",
              "      width: 32px;\n",
              "    }\n",
              "\n",
              "    .colab-df-convert:hover {\n",
              "      background-color: #E2EBFA;\n",
              "      box-shadow: 0px 1px 2px rgba(60, 64, 67, 0.3), 0px 1px 3px 1px rgba(60, 64, 67, 0.15);\n",
              "      fill: #174EA6;\n",
              "    }\n",
              "\n",
              "    [theme=dark] .colab-df-convert {\n",
              "      background-color: #3B4455;\n",
              "      fill: #D2E3FC;\n",
              "    }\n",
              "\n",
              "    [theme=dark] .colab-df-convert:hover {\n",
              "      background-color: #434B5C;\n",
              "      box-shadow: 0px 1px 3px 1px rgba(0, 0, 0, 0.15);\n",
              "      filter: drop-shadow(0px 1px 2px rgba(0, 0, 0, 0.3));\n",
              "      fill: #FFFFFF;\n",
              "    }\n",
              "  </style>\n",
              "\n",
              "      <script>\n",
              "        const buttonEl =\n",
              "          document.querySelector('#df-d3eb3690-6b5d-44de-9227-86e6badbf738 button.colab-df-convert');\n",
              "        buttonEl.style.display =\n",
              "          google.colab.kernel.accessAllowed ? 'block' : 'none';\n",
              "\n",
              "        async function convertToInteractive(key) {\n",
              "          const element = document.querySelector('#df-d3eb3690-6b5d-44de-9227-86e6badbf738');\n",
              "          const dataTable =\n",
              "            await google.colab.kernel.invokeFunction('convertToInteractive',\n",
              "                                                     [key], {});\n",
              "          if (!dataTable) return;\n",
              "\n",
              "          const docLinkHtml = 'Like what you see? Visit the ' +\n",
              "            '<a target=\"_blank\" href=https://colab.research.google.com/notebooks/data_table.ipynb>data table notebook</a>'\n",
              "            + ' to learn more about interactive tables.';\n",
              "          element.innerHTML = '';\n",
              "          dataTable['output_type'] = 'display_data';\n",
              "          await google.colab.output.renderOutput(dataTable, element);\n",
              "          const docLink = document.createElement('div');\n",
              "          docLink.innerHTML = docLinkHtml;\n",
              "          element.appendChild(docLink);\n",
              "        }\n",
              "      </script>\n",
              "    </div>\n",
              "  </div>\n",
              "  "
            ]
          },
          "metadata": {},
          "execution_count": 73
        }
      ],
      "source": [
        "# merge datasets\n",
        "df = pd.merge(results, races[['raceId', 'year','name', 'round']],on = 'raceId', how = 'left')\n",
        "df = pd.merge(df, drivers[['driverId', 'driverRef', 'nationality']], on = 'driverId', how = 'left')\n",
        "df = pd.merge(df, constructors[['constructorId', 'name', 'nationality']], on = 'constructorId', how = 'left')\n",
        "df.head()"
      ]
    },
    {
      "cell_type": "code",
      "execution_count": 74,
      "metadata": {
        "id": "LuJnHCDrif7O",
        "colab": {
          "base_uri": "https://localhost:8080/",
          "height": 206
        },
        "outputId": "0633c1f2-d479-4cdb-9794-50ebeb750a4c"
      },
      "outputs": [
        {
          "output_type": "execute_result",
          "data": {
            "text/plain": [
              "   grid  positionOrder  points milliseconds rank fastestLapSpeed  year  \\\n",
              "0     1              1    10.0      5690616    2         218.300  2008   \n",
              "1     5              2     8.0      5696094    3         217.586  2008   \n",
              "2     7              3     6.0      5698779    5         216.719  2008   \n",
              "3    11              4     5.0      5707797    7         215.464  2008   \n",
              "4     3              5     4.0      5708630    1         218.385  2008   \n",
              "\n",
              "                  name_x  round   driverRef nationality_x      name_y  \\\n",
              "0  Australian Grand Prix      1    hamilton       British     McLaren   \n",
              "1  Australian Grand Prix      1    heidfeld        German  BMW Sauber   \n",
              "2  Australian Grand Prix      1     rosberg        German    Williams   \n",
              "3  Australian Grand Prix      1      alonso       Spanish     Renault   \n",
              "4  Australian Grand Prix      1  kovalainen       Finnish     McLaren   \n",
              "\n",
              "  nationality_y  \n",
              "0       British  \n",
              "1        German  \n",
              "2       British  \n",
              "3        French  \n",
              "4       British  "
            ],
            "text/html": [
              "\n",
              "  <div id=\"df-a9efeda5-831c-47fb-baf2-7bd59f817d6f\">\n",
              "    <div class=\"colab-df-container\">\n",
              "      <div>\n",
              "<style scoped>\n",
              "    .dataframe tbody tr th:only-of-type {\n",
              "        vertical-align: middle;\n",
              "    }\n",
              "\n",
              "    .dataframe tbody tr th {\n",
              "        vertical-align: top;\n",
              "    }\n",
              "\n",
              "    .dataframe thead th {\n",
              "        text-align: right;\n",
              "    }\n",
              "</style>\n",
              "<table border=\"1\" class=\"dataframe\">\n",
              "  <thead>\n",
              "    <tr style=\"text-align: right;\">\n",
              "      <th></th>\n",
              "      <th>grid</th>\n",
              "      <th>positionOrder</th>\n",
              "      <th>points</th>\n",
              "      <th>milliseconds</th>\n",
              "      <th>rank</th>\n",
              "      <th>fastestLapSpeed</th>\n",
              "      <th>year</th>\n",
              "      <th>name_x</th>\n",
              "      <th>round</th>\n",
              "      <th>driverRef</th>\n",
              "      <th>nationality_x</th>\n",
              "      <th>name_y</th>\n",
              "      <th>nationality_y</th>\n",
              "    </tr>\n",
              "  </thead>\n",
              "  <tbody>\n",
              "    <tr>\n",
              "      <th>0</th>\n",
              "      <td>1</td>\n",
              "      <td>1</td>\n",
              "      <td>10.0</td>\n",
              "      <td>5690616</td>\n",
              "      <td>2</td>\n",
              "      <td>218.300</td>\n",
              "      <td>2008</td>\n",
              "      <td>Australian Grand Prix</td>\n",
              "      <td>1</td>\n",
              "      <td>hamilton</td>\n",
              "      <td>British</td>\n",
              "      <td>McLaren</td>\n",
              "      <td>British</td>\n",
              "    </tr>\n",
              "    <tr>\n",
              "      <th>1</th>\n",
              "      <td>5</td>\n",
              "      <td>2</td>\n",
              "      <td>8.0</td>\n",
              "      <td>5696094</td>\n",
              "      <td>3</td>\n",
              "      <td>217.586</td>\n",
              "      <td>2008</td>\n",
              "      <td>Australian Grand Prix</td>\n",
              "      <td>1</td>\n",
              "      <td>heidfeld</td>\n",
              "      <td>German</td>\n",
              "      <td>BMW Sauber</td>\n",
              "      <td>German</td>\n",
              "    </tr>\n",
              "    <tr>\n",
              "      <th>2</th>\n",
              "      <td>7</td>\n",
              "      <td>3</td>\n",
              "      <td>6.0</td>\n",
              "      <td>5698779</td>\n",
              "      <td>5</td>\n",
              "      <td>216.719</td>\n",
              "      <td>2008</td>\n",
              "      <td>Australian Grand Prix</td>\n",
              "      <td>1</td>\n",
              "      <td>rosberg</td>\n",
              "      <td>German</td>\n",
              "      <td>Williams</td>\n",
              "      <td>British</td>\n",
              "    </tr>\n",
              "    <tr>\n",
              "      <th>3</th>\n",
              "      <td>11</td>\n",
              "      <td>4</td>\n",
              "      <td>5.0</td>\n",
              "      <td>5707797</td>\n",
              "      <td>7</td>\n",
              "      <td>215.464</td>\n",
              "      <td>2008</td>\n",
              "      <td>Australian Grand Prix</td>\n",
              "      <td>1</td>\n",
              "      <td>alonso</td>\n",
              "      <td>Spanish</td>\n",
              "      <td>Renault</td>\n",
              "      <td>French</td>\n",
              "    </tr>\n",
              "    <tr>\n",
              "      <th>4</th>\n",
              "      <td>3</td>\n",
              "      <td>5</td>\n",
              "      <td>4.0</td>\n",
              "      <td>5708630</td>\n",
              "      <td>1</td>\n",
              "      <td>218.385</td>\n",
              "      <td>2008</td>\n",
              "      <td>Australian Grand Prix</td>\n",
              "      <td>1</td>\n",
              "      <td>kovalainen</td>\n",
              "      <td>Finnish</td>\n",
              "      <td>McLaren</td>\n",
              "      <td>British</td>\n",
              "    </tr>\n",
              "  </tbody>\n",
              "</table>\n",
              "</div>\n",
              "      <button class=\"colab-df-convert\" onclick=\"convertToInteractive('df-a9efeda5-831c-47fb-baf2-7bd59f817d6f')\"\n",
              "              title=\"Convert this dataframe to an interactive table.\"\n",
              "              style=\"display:none;\">\n",
              "        \n",
              "  <svg xmlns=\"http://www.w3.org/2000/svg\" height=\"24px\"viewBox=\"0 0 24 24\"\n",
              "       width=\"24px\">\n",
              "    <path d=\"M0 0h24v24H0V0z\" fill=\"none\"/>\n",
              "    <path d=\"M18.56 5.44l.94 2.06.94-2.06 2.06-.94-2.06-.94-.94-2.06-.94 2.06-2.06.94zm-11 1L8.5 8.5l.94-2.06 2.06-.94-2.06-.94L8.5 2.5l-.94 2.06-2.06.94zm10 10l.94 2.06.94-2.06 2.06-.94-2.06-.94-.94-2.06-.94 2.06-2.06.94z\"/><path d=\"M17.41 7.96l-1.37-1.37c-.4-.4-.92-.59-1.43-.59-.52 0-1.04.2-1.43.59L10.3 9.45l-7.72 7.72c-.78.78-.78 2.05 0 2.83L4 21.41c.39.39.9.59 1.41.59.51 0 1.02-.2 1.41-.59l7.78-7.78 2.81-2.81c.8-.78.8-2.07 0-2.86zM5.41 20L4 18.59l7.72-7.72 1.47 1.35L5.41 20z\"/>\n",
              "  </svg>\n",
              "      </button>\n",
              "      \n",
              "  <style>\n",
              "    .colab-df-container {\n",
              "      display:flex;\n",
              "      flex-wrap:wrap;\n",
              "      gap: 12px;\n",
              "    }\n",
              "\n",
              "    .colab-df-convert {\n",
              "      background-color: #E8F0FE;\n",
              "      border: none;\n",
              "      border-radius: 50%;\n",
              "      cursor: pointer;\n",
              "      display: none;\n",
              "      fill: #1967D2;\n",
              "      height: 32px;\n",
              "      padding: 0 0 0 0;\n",
              "      width: 32px;\n",
              "    }\n",
              "\n",
              "    .colab-df-convert:hover {\n",
              "      background-color: #E2EBFA;\n",
              "      box-shadow: 0px 1px 2px rgba(60, 64, 67, 0.3), 0px 1px 3px 1px rgba(60, 64, 67, 0.15);\n",
              "      fill: #174EA6;\n",
              "    }\n",
              "\n",
              "    [theme=dark] .colab-df-convert {\n",
              "      background-color: #3B4455;\n",
              "      fill: #D2E3FC;\n",
              "    }\n",
              "\n",
              "    [theme=dark] .colab-df-convert:hover {\n",
              "      background-color: #434B5C;\n",
              "      box-shadow: 0px 1px 3px 1px rgba(0, 0, 0, 0.15);\n",
              "      filter: drop-shadow(0px 1px 2px rgba(0, 0, 0, 0.3));\n",
              "      fill: #FFFFFF;\n",
              "    }\n",
              "  </style>\n",
              "\n",
              "      <script>\n",
              "        const buttonEl =\n",
              "          document.querySelector('#df-a9efeda5-831c-47fb-baf2-7bd59f817d6f button.colab-df-convert');\n",
              "        buttonEl.style.display =\n",
              "          google.colab.kernel.accessAllowed ? 'block' : 'none';\n",
              "\n",
              "        async function convertToInteractive(key) {\n",
              "          const element = document.querySelector('#df-a9efeda5-831c-47fb-baf2-7bd59f817d6f');\n",
              "          const dataTable =\n",
              "            await google.colab.kernel.invokeFunction('convertToInteractive',\n",
              "                                                     [key], {});\n",
              "          if (!dataTable) return;\n",
              "\n",
              "          const docLinkHtml = 'Like what you see? Visit the ' +\n",
              "            '<a target=\"_blank\" href=https://colab.research.google.com/notebooks/data_table.ipynb>data table notebook</a>'\n",
              "            + ' to learn more about interactive tables.';\n",
              "          element.innerHTML = '';\n",
              "          dataTable['output_type'] = 'display_data';\n",
              "          await google.colab.output.renderOutput(dataTable, element);\n",
              "          const docLink = document.createElement('div');\n",
              "          docLink.innerHTML = docLinkHtml;\n",
              "          element.appendChild(docLink);\n",
              "        }\n",
              "      </script>\n",
              "    </div>\n",
              "  </div>\n",
              "  "
            ]
          },
          "metadata": {},
          "execution_count": 74
        }
      ],
      "source": [
        "# drop columns\n",
        "df.drop(['number', 'position', 'positionText','laps','fastestLap', 'statusId', 'resultId', 'raceId', 'driverId', 'constructorId', 'time', 'fastestLapTime'], axis = 1, inplace=True)\n",
        "df.head()"
      ]
    },
    {
      "cell_type": "code",
      "execution_count": 75,
      "metadata": {
        "id": "fCrUBrJmjfht",
        "colab": {
          "base_uri": "https://localhost:8080/",
          "height": 206
        },
        "outputId": "d2c19d67-830c-415c-ec6b-c1f8c1403182"
      },
      "outputs": [
        {
          "output_type": "execute_result",
          "data": {
            "text/plain": [
              "   grid  positionOrder  points milliseconds fastestLapRank fastestLapSpeed  \\\n",
              "0     1              1    10.0      5690616              2         218.300   \n",
              "1     5              2     8.0      5696094              3         217.586   \n",
              "2     7              3     6.0      5698779              5         216.719   \n",
              "3    11              4     5.0      5707797              7         215.464   \n",
              "4     3              5     4.0      5708630              1         218.385   \n",
              "\n",
              "   year              grandPrix  round      driver driverNationality  \\\n",
              "0  2008  Australian Grand Prix      1    hamilton           British   \n",
              "1  2008  Australian Grand Prix      1    heidfeld            German   \n",
              "2  2008  Australian Grand Prix      1     rosberg            German   \n",
              "3  2008  Australian Grand Prix      1      alonso           Spanish   \n",
              "4  2008  Australian Grand Prix      1  kovalainen           Finnish   \n",
              "\n",
              "  constructorName constructorNationality  \n",
              "0         McLaren                British  \n",
              "1      BMW Sauber                 German  \n",
              "2        Williams                British  \n",
              "3         Renault                 French  \n",
              "4         McLaren                British  "
            ],
            "text/html": [
              "\n",
              "  <div id=\"df-b67a51b4-4190-4b1d-87ac-03d14f532159\">\n",
              "    <div class=\"colab-df-container\">\n",
              "      <div>\n",
              "<style scoped>\n",
              "    .dataframe tbody tr th:only-of-type {\n",
              "        vertical-align: middle;\n",
              "    }\n",
              "\n",
              "    .dataframe tbody tr th {\n",
              "        vertical-align: top;\n",
              "    }\n",
              "\n",
              "    .dataframe thead th {\n",
              "        text-align: right;\n",
              "    }\n",
              "</style>\n",
              "<table border=\"1\" class=\"dataframe\">\n",
              "  <thead>\n",
              "    <tr style=\"text-align: right;\">\n",
              "      <th></th>\n",
              "      <th>grid</th>\n",
              "      <th>positionOrder</th>\n",
              "      <th>points</th>\n",
              "      <th>milliseconds</th>\n",
              "      <th>fastestLapRank</th>\n",
              "      <th>fastestLapSpeed</th>\n",
              "      <th>year</th>\n",
              "      <th>grandPrix</th>\n",
              "      <th>round</th>\n",
              "      <th>driver</th>\n",
              "      <th>driverNationality</th>\n",
              "      <th>constructorName</th>\n",
              "      <th>constructorNationality</th>\n",
              "    </tr>\n",
              "  </thead>\n",
              "  <tbody>\n",
              "    <tr>\n",
              "      <th>0</th>\n",
              "      <td>1</td>\n",
              "      <td>1</td>\n",
              "      <td>10.0</td>\n",
              "      <td>5690616</td>\n",
              "      <td>2</td>\n",
              "      <td>218.300</td>\n",
              "      <td>2008</td>\n",
              "      <td>Australian Grand Prix</td>\n",
              "      <td>1</td>\n",
              "      <td>hamilton</td>\n",
              "      <td>British</td>\n",
              "      <td>McLaren</td>\n",
              "      <td>British</td>\n",
              "    </tr>\n",
              "    <tr>\n",
              "      <th>1</th>\n",
              "      <td>5</td>\n",
              "      <td>2</td>\n",
              "      <td>8.0</td>\n",
              "      <td>5696094</td>\n",
              "      <td>3</td>\n",
              "      <td>217.586</td>\n",
              "      <td>2008</td>\n",
              "      <td>Australian Grand Prix</td>\n",
              "      <td>1</td>\n",
              "      <td>heidfeld</td>\n",
              "      <td>German</td>\n",
              "      <td>BMW Sauber</td>\n",
              "      <td>German</td>\n",
              "    </tr>\n",
              "    <tr>\n",
              "      <th>2</th>\n",
              "      <td>7</td>\n",
              "      <td>3</td>\n",
              "      <td>6.0</td>\n",
              "      <td>5698779</td>\n",
              "      <td>5</td>\n",
              "      <td>216.719</td>\n",
              "      <td>2008</td>\n",
              "      <td>Australian Grand Prix</td>\n",
              "      <td>1</td>\n",
              "      <td>rosberg</td>\n",
              "      <td>German</td>\n",
              "      <td>Williams</td>\n",
              "      <td>British</td>\n",
              "    </tr>\n",
              "    <tr>\n",
              "      <th>3</th>\n",
              "      <td>11</td>\n",
              "      <td>4</td>\n",
              "      <td>5.0</td>\n",
              "      <td>5707797</td>\n",
              "      <td>7</td>\n",
              "      <td>215.464</td>\n",
              "      <td>2008</td>\n",
              "      <td>Australian Grand Prix</td>\n",
              "      <td>1</td>\n",
              "      <td>alonso</td>\n",
              "      <td>Spanish</td>\n",
              "      <td>Renault</td>\n",
              "      <td>French</td>\n",
              "    </tr>\n",
              "    <tr>\n",
              "      <th>4</th>\n",
              "      <td>3</td>\n",
              "      <td>5</td>\n",
              "      <td>4.0</td>\n",
              "      <td>5708630</td>\n",
              "      <td>1</td>\n",
              "      <td>218.385</td>\n",
              "      <td>2008</td>\n",
              "      <td>Australian Grand Prix</td>\n",
              "      <td>1</td>\n",
              "      <td>kovalainen</td>\n",
              "      <td>Finnish</td>\n",
              "      <td>McLaren</td>\n",
              "      <td>British</td>\n",
              "    </tr>\n",
              "  </tbody>\n",
              "</table>\n",
              "</div>\n",
              "      <button class=\"colab-df-convert\" onclick=\"convertToInteractive('df-b67a51b4-4190-4b1d-87ac-03d14f532159')\"\n",
              "              title=\"Convert this dataframe to an interactive table.\"\n",
              "              style=\"display:none;\">\n",
              "        \n",
              "  <svg xmlns=\"http://www.w3.org/2000/svg\" height=\"24px\"viewBox=\"0 0 24 24\"\n",
              "       width=\"24px\">\n",
              "    <path d=\"M0 0h24v24H0V0z\" fill=\"none\"/>\n",
              "    <path d=\"M18.56 5.44l.94 2.06.94-2.06 2.06-.94-2.06-.94-.94-2.06-.94 2.06-2.06.94zm-11 1L8.5 8.5l.94-2.06 2.06-.94-2.06-.94L8.5 2.5l-.94 2.06-2.06.94zm10 10l.94 2.06.94-2.06 2.06-.94-2.06-.94-.94-2.06-.94 2.06-2.06.94z\"/><path d=\"M17.41 7.96l-1.37-1.37c-.4-.4-.92-.59-1.43-.59-.52 0-1.04.2-1.43.59L10.3 9.45l-7.72 7.72c-.78.78-.78 2.05 0 2.83L4 21.41c.39.39.9.59 1.41.59.51 0 1.02-.2 1.41-.59l7.78-7.78 2.81-2.81c.8-.78.8-2.07 0-2.86zM5.41 20L4 18.59l7.72-7.72 1.47 1.35L5.41 20z\"/>\n",
              "  </svg>\n",
              "      </button>\n",
              "      \n",
              "  <style>\n",
              "    .colab-df-container {\n",
              "      display:flex;\n",
              "      flex-wrap:wrap;\n",
              "      gap: 12px;\n",
              "    }\n",
              "\n",
              "    .colab-df-convert {\n",
              "      background-color: #E8F0FE;\n",
              "      border: none;\n",
              "      border-radius: 50%;\n",
              "      cursor: pointer;\n",
              "      display: none;\n",
              "      fill: #1967D2;\n",
              "      height: 32px;\n",
              "      padding: 0 0 0 0;\n",
              "      width: 32px;\n",
              "    }\n",
              "\n",
              "    .colab-df-convert:hover {\n",
              "      background-color: #E2EBFA;\n",
              "      box-shadow: 0px 1px 2px rgba(60, 64, 67, 0.3), 0px 1px 3px 1px rgba(60, 64, 67, 0.15);\n",
              "      fill: #174EA6;\n",
              "    }\n",
              "\n",
              "    [theme=dark] .colab-df-convert {\n",
              "      background-color: #3B4455;\n",
              "      fill: #D2E3FC;\n",
              "    }\n",
              "\n",
              "    [theme=dark] .colab-df-convert:hover {\n",
              "      background-color: #434B5C;\n",
              "      box-shadow: 0px 1px 3px 1px rgba(0, 0, 0, 0.15);\n",
              "      filter: drop-shadow(0px 1px 2px rgba(0, 0, 0, 0.3));\n",
              "      fill: #FFFFFF;\n",
              "    }\n",
              "  </style>\n",
              "\n",
              "      <script>\n",
              "        const buttonEl =\n",
              "          document.querySelector('#df-b67a51b4-4190-4b1d-87ac-03d14f532159 button.colab-df-convert');\n",
              "        buttonEl.style.display =\n",
              "          google.colab.kernel.accessAllowed ? 'block' : 'none';\n",
              "\n",
              "        async function convertToInteractive(key) {\n",
              "          const element = document.querySelector('#df-b67a51b4-4190-4b1d-87ac-03d14f532159');\n",
              "          const dataTable =\n",
              "            await google.colab.kernel.invokeFunction('convertToInteractive',\n",
              "                                                     [key], {});\n",
              "          if (!dataTable) return;\n",
              "\n",
              "          const docLinkHtml = 'Like what you see? Visit the ' +\n",
              "            '<a target=\"_blank\" href=https://colab.research.google.com/notebooks/data_table.ipynb>data table notebook</a>'\n",
              "            + ' to learn more about interactive tables.';\n",
              "          element.innerHTML = '';\n",
              "          dataTable['output_type'] = 'display_data';\n",
              "          await google.colab.output.renderOutput(dataTable, element);\n",
              "          const docLink = document.createElement('div');\n",
              "          docLink.innerHTML = docLinkHtml;\n",
              "          element.appendChild(docLink);\n",
              "        }\n",
              "      </script>\n",
              "    </div>\n",
              "  </div>\n",
              "  "
            ]
          },
          "metadata": {},
          "execution_count": 75
        }
      ],
      "source": [
        "# rename columns\n",
        "df.rename(columns={'rank':'fastestLapRank', 'name_x':'grandPrix', 'nationality_x':'driverNationality','name_y':'constructorName','nationality_y':'constructorNationality','driverRef':'driver'}, inplace=True)\n",
        "df.head()"
      ]
    },
    {
      "cell_type": "code",
      "execution_count": 76,
      "metadata": {
        "id": "Mj8FLFSHkUpL",
        "colab": {
          "base_uri": "https://localhost:8080/",
          "height": 206
        },
        "outputId": "a38f7f20-a192-4014-c4d4-87a52fb74587"
      },
      "outputs": [
        {
          "output_type": "execute_result",
          "data": {
            "text/plain": [
              "   year              grandPrix  round      driver constructorName  grid  \\\n",
              "0  2008  Australian Grand Prix      1    hamilton         McLaren     1   \n",
              "1  2008  Australian Grand Prix      1    heidfeld      BMW Sauber     5   \n",
              "2  2008  Australian Grand Prix      1     rosberg        Williams     7   \n",
              "3  2008  Australian Grand Prix      1      alonso         Renault    11   \n",
              "4  2008  Australian Grand Prix      1  kovalainen         McLaren     3   \n",
              "\n",
              "   positionOrder  points milliseconds fastestLapRank fastestLapSpeed  \\\n",
              "0              1    10.0      5690616              2         218.300   \n",
              "1              2     8.0      5696094              3         217.586   \n",
              "2              3     6.0      5698779              5         216.719   \n",
              "3              4     5.0      5707797              7         215.464   \n",
              "4              5     4.0      5708630              1         218.385   \n",
              "\n",
              "  driverNationality constructorNationality  \n",
              "0           British                British  \n",
              "1            German                 German  \n",
              "2            German                British  \n",
              "3           Spanish                 French  \n",
              "4           Finnish                British  "
            ],
            "text/html": [
              "\n",
              "  <div id=\"df-b2bbf954-5625-4eda-a8cc-4b462b2e6e52\">\n",
              "    <div class=\"colab-df-container\">\n",
              "      <div>\n",
              "<style scoped>\n",
              "    .dataframe tbody tr th:only-of-type {\n",
              "        vertical-align: middle;\n",
              "    }\n",
              "\n",
              "    .dataframe tbody tr th {\n",
              "        vertical-align: top;\n",
              "    }\n",
              "\n",
              "    .dataframe thead th {\n",
              "        text-align: right;\n",
              "    }\n",
              "</style>\n",
              "<table border=\"1\" class=\"dataframe\">\n",
              "  <thead>\n",
              "    <tr style=\"text-align: right;\">\n",
              "      <th></th>\n",
              "      <th>year</th>\n",
              "      <th>grandPrix</th>\n",
              "      <th>round</th>\n",
              "      <th>driver</th>\n",
              "      <th>constructorName</th>\n",
              "      <th>grid</th>\n",
              "      <th>positionOrder</th>\n",
              "      <th>points</th>\n",
              "      <th>milliseconds</th>\n",
              "      <th>fastestLapRank</th>\n",
              "      <th>fastestLapSpeed</th>\n",
              "      <th>driverNationality</th>\n",
              "      <th>constructorNationality</th>\n",
              "    </tr>\n",
              "  </thead>\n",
              "  <tbody>\n",
              "    <tr>\n",
              "      <th>0</th>\n",
              "      <td>2008</td>\n",
              "      <td>Australian Grand Prix</td>\n",
              "      <td>1</td>\n",
              "      <td>hamilton</td>\n",
              "      <td>McLaren</td>\n",
              "      <td>1</td>\n",
              "      <td>1</td>\n",
              "      <td>10.0</td>\n",
              "      <td>5690616</td>\n",
              "      <td>2</td>\n",
              "      <td>218.300</td>\n",
              "      <td>British</td>\n",
              "      <td>British</td>\n",
              "    </tr>\n",
              "    <tr>\n",
              "      <th>1</th>\n",
              "      <td>2008</td>\n",
              "      <td>Australian Grand Prix</td>\n",
              "      <td>1</td>\n",
              "      <td>heidfeld</td>\n",
              "      <td>BMW Sauber</td>\n",
              "      <td>5</td>\n",
              "      <td>2</td>\n",
              "      <td>8.0</td>\n",
              "      <td>5696094</td>\n",
              "      <td>3</td>\n",
              "      <td>217.586</td>\n",
              "      <td>German</td>\n",
              "      <td>German</td>\n",
              "    </tr>\n",
              "    <tr>\n",
              "      <th>2</th>\n",
              "      <td>2008</td>\n",
              "      <td>Australian Grand Prix</td>\n",
              "      <td>1</td>\n",
              "      <td>rosberg</td>\n",
              "      <td>Williams</td>\n",
              "      <td>7</td>\n",
              "      <td>3</td>\n",
              "      <td>6.0</td>\n",
              "      <td>5698779</td>\n",
              "      <td>5</td>\n",
              "      <td>216.719</td>\n",
              "      <td>German</td>\n",
              "      <td>British</td>\n",
              "    </tr>\n",
              "    <tr>\n",
              "      <th>3</th>\n",
              "      <td>2008</td>\n",
              "      <td>Australian Grand Prix</td>\n",
              "      <td>1</td>\n",
              "      <td>alonso</td>\n",
              "      <td>Renault</td>\n",
              "      <td>11</td>\n",
              "      <td>4</td>\n",
              "      <td>5.0</td>\n",
              "      <td>5707797</td>\n",
              "      <td>7</td>\n",
              "      <td>215.464</td>\n",
              "      <td>Spanish</td>\n",
              "      <td>French</td>\n",
              "    </tr>\n",
              "    <tr>\n",
              "      <th>4</th>\n",
              "      <td>2008</td>\n",
              "      <td>Australian Grand Prix</td>\n",
              "      <td>1</td>\n",
              "      <td>kovalainen</td>\n",
              "      <td>McLaren</td>\n",
              "      <td>3</td>\n",
              "      <td>5</td>\n",
              "      <td>4.0</td>\n",
              "      <td>5708630</td>\n",
              "      <td>1</td>\n",
              "      <td>218.385</td>\n",
              "      <td>Finnish</td>\n",
              "      <td>British</td>\n",
              "    </tr>\n",
              "  </tbody>\n",
              "</table>\n",
              "</div>\n",
              "      <button class=\"colab-df-convert\" onclick=\"convertToInteractive('df-b2bbf954-5625-4eda-a8cc-4b462b2e6e52')\"\n",
              "              title=\"Convert this dataframe to an interactive table.\"\n",
              "              style=\"display:none;\">\n",
              "        \n",
              "  <svg xmlns=\"http://www.w3.org/2000/svg\" height=\"24px\"viewBox=\"0 0 24 24\"\n",
              "       width=\"24px\">\n",
              "    <path d=\"M0 0h24v24H0V0z\" fill=\"none\"/>\n",
              "    <path d=\"M18.56 5.44l.94 2.06.94-2.06 2.06-.94-2.06-.94-.94-2.06-.94 2.06-2.06.94zm-11 1L8.5 8.5l.94-2.06 2.06-.94-2.06-.94L8.5 2.5l-.94 2.06-2.06.94zm10 10l.94 2.06.94-2.06 2.06-.94-2.06-.94-.94-2.06-.94 2.06-2.06.94z\"/><path d=\"M17.41 7.96l-1.37-1.37c-.4-.4-.92-.59-1.43-.59-.52 0-1.04.2-1.43.59L10.3 9.45l-7.72 7.72c-.78.78-.78 2.05 0 2.83L4 21.41c.39.39.9.59 1.41.59.51 0 1.02-.2 1.41-.59l7.78-7.78 2.81-2.81c.8-.78.8-2.07 0-2.86zM5.41 20L4 18.59l7.72-7.72 1.47 1.35L5.41 20z\"/>\n",
              "  </svg>\n",
              "      </button>\n",
              "      \n",
              "  <style>\n",
              "    .colab-df-container {\n",
              "      display:flex;\n",
              "      flex-wrap:wrap;\n",
              "      gap: 12px;\n",
              "    }\n",
              "\n",
              "    .colab-df-convert {\n",
              "      background-color: #E8F0FE;\n",
              "      border: none;\n",
              "      border-radius: 50%;\n",
              "      cursor: pointer;\n",
              "      display: none;\n",
              "      fill: #1967D2;\n",
              "      height: 32px;\n",
              "      padding: 0 0 0 0;\n",
              "      width: 32px;\n",
              "    }\n",
              "\n",
              "    .colab-df-convert:hover {\n",
              "      background-color: #E2EBFA;\n",
              "      box-shadow: 0px 1px 2px rgba(60, 64, 67, 0.3), 0px 1px 3px 1px rgba(60, 64, 67, 0.15);\n",
              "      fill: #174EA6;\n",
              "    }\n",
              "\n",
              "    [theme=dark] .colab-df-convert {\n",
              "      background-color: #3B4455;\n",
              "      fill: #D2E3FC;\n",
              "    }\n",
              "\n",
              "    [theme=dark] .colab-df-convert:hover {\n",
              "      background-color: #434B5C;\n",
              "      box-shadow: 0px 1px 3px 1px rgba(0, 0, 0, 0.15);\n",
              "      filter: drop-shadow(0px 1px 2px rgba(0, 0, 0, 0.3));\n",
              "      fill: #FFFFFF;\n",
              "    }\n",
              "  </style>\n",
              "\n",
              "      <script>\n",
              "        const buttonEl =\n",
              "          document.querySelector('#df-b2bbf954-5625-4eda-a8cc-4b462b2e6e52 button.colab-df-convert');\n",
              "        buttonEl.style.display =\n",
              "          google.colab.kernel.accessAllowed ? 'block' : 'none';\n",
              "\n",
              "        async function convertToInteractive(key) {\n",
              "          const element = document.querySelector('#df-b2bbf954-5625-4eda-a8cc-4b462b2e6e52');\n",
              "          const dataTable =\n",
              "            await google.colab.kernel.invokeFunction('convertToInteractive',\n",
              "                                                     [key], {});\n",
              "          if (!dataTable) return;\n",
              "\n",
              "          const docLinkHtml = 'Like what you see? Visit the ' +\n",
              "            '<a target=\"_blank\" href=https://colab.research.google.com/notebooks/data_table.ipynb>data table notebook</a>'\n",
              "            + ' to learn more about interactive tables.';\n",
              "          element.innerHTML = '';\n",
              "          dataTable['output_type'] = 'display_data';\n",
              "          await google.colab.output.renderOutput(dataTable, element);\n",
              "          const docLink = document.createElement('div');\n",
              "          docLink.innerHTML = docLinkHtml;\n",
              "          element.appendChild(docLink);\n",
              "        }\n",
              "      </script>\n",
              "    </div>\n",
              "  </div>\n",
              "  "
            ]
          },
          "metadata": {},
          "execution_count": 76
        }
      ],
      "source": [
        "#rearrange columns\n",
        "df = df[['year', 'grandPrix', 'round', 'driver', 'constructorName', 'grid', 'positionOrder','points','milliseconds','fastestLapRank', 'fastestLapSpeed', 'driverNationality','constructorNationality']]\n",
        "df.head()"
      ]
    },
    {
      "cell_type": "code",
      "execution_count": 77,
      "metadata": {
        "id": "IilM4lNsqwR4",
        "colab": {
          "base_uri": "https://localhost:8080/"
        },
        "outputId": "6889a413-9eb8-41bd-bb4a-9afa2961c13d"
      },
      "outputs": [
        {
          "output_type": "stream",
          "name": "stdout",
          "text": [
            "<class 'pandas.core.frame.DataFrame'>\n",
            "Int64Index: 25660 entries, 0 to 25659\n",
            "Data columns (total 13 columns):\n",
            " #   Column                  Non-Null Count  Dtype  \n",
            "---  ------                  --------------  -----  \n",
            " 0   year                    25660 non-null  int64  \n",
            " 1   grandPrix               25660 non-null  object \n",
            " 2   round                   25660 non-null  int64  \n",
            " 3   driver                  25660 non-null  object \n",
            " 4   constructorName         25660 non-null  object \n",
            " 5   grid                    25660 non-null  int64  \n",
            " 6   positionOrder           25660 non-null  int64  \n",
            " 7   points                  25660 non-null  float64\n",
            " 8   milliseconds            25660 non-null  object \n",
            " 9   fastestLapRank          25660 non-null  object \n",
            " 10  fastestLapSpeed         25660 non-null  object \n",
            " 11  driverNationality       25660 non-null  object \n",
            " 12  constructorNationality  25660 non-null  object \n",
            "dtypes: float64(1), int64(4), object(8)\n",
            "memory usage: 2.7+ MB\n"
          ]
        }
      ],
      "source": [
        "df.info()"
      ]
    },
    {
      "cell_type": "code",
      "execution_count": 78,
      "metadata": {
        "id": "qvgV4bSQpt0w",
        "colab": {
          "base_uri": "https://localhost:8080/"
        },
        "outputId": "424fa04b-6697-4224-92ec-70d1f06d3147"
      },
      "outputs": [
        {
          "output_type": "execute_result",
          "data": {
            "text/plain": [
              "0"
            ]
          },
          "metadata": {},
          "execution_count": 78
        }
      ],
      "source": [
        "# check for duplicated rows\n",
        "df.duplicated().sum()"
      ]
    },
    {
      "cell_type": "code",
      "execution_count": 79,
      "metadata": {
        "id": "q7RWzqoLpxQN",
        "colab": {
          "base_uri": "https://localhost:8080/"
        },
        "outputId": "5796dffe-8f90-4088-bdca-2100673c4fae"
      },
      "outputs": [
        {
          "output_type": "execute_result",
          "data": {
            "text/plain": [
              "year                      0\n",
              "grandPrix                 0\n",
              "round                     0\n",
              "driver                    0\n",
              "constructorName           0\n",
              "grid                      0\n",
              "positionOrder             0\n",
              "points                    0\n",
              "milliseconds              0\n",
              "fastestLapRank            0\n",
              "fastestLapSpeed           0\n",
              "driverNationality         0\n",
              "constructorNationality    0\n",
              "dtype: int64"
            ]
          },
          "metadata": {},
          "execution_count": 79
        }
      ],
      "source": [
        "# check for missing values\n",
        "df.isna().sum()"
      ]
    },
    {
      "cell_type": "code",
      "execution_count": 80,
      "metadata": {
        "id": "IIgU1UWEKR8y"
      },
      "outputs": [],
      "source": [
        "# sort values\n",
        "df = df.sort_values(by=['year','round','positionOrder'], ascending = [False, True, True])"
      ]
    },
    {
      "cell_type": "code",
      "execution_count": 81,
      "metadata": {
        "id": "ne9STfNrKiUS"
      },
      "outputs": [],
      "source": [
        "# replace \\N values in time column due to missing data when drivers drop out of a race\n",
        "df.milliseconds.replace('\\\\N', np.nan, inplace=True)\n",
        "df.fastestLapRank.replace('\\\\N', np.nan, inplace=True)\n",
        "df.fastestLapSpeed.replace('\\\\N', np.nan, inplace=True)"
      ]
    },
    {
      "cell_type": "code",
      "execution_count": 82,
      "metadata": {
        "id": "iwh3Q3GmK-Uu"
      },
      "outputs": [],
      "source": [
        "# change datatypes\n",
        "df.fastestLapSpeed = df.fastestLapSpeed.astype(float)\n",
        "df.fastestLapRank = df.fastestLapRank.astype(float)\n",
        "df.milliseconds = df.milliseconds.astype(float)"
      ]
    },
    {
      "cell_type": "code",
      "execution_count": 83,
      "metadata": {
        "id": "4T-2QGg9pt3i",
        "colab": {
          "base_uri": "https://localhost:8080/",
          "height": 250
        },
        "outputId": "d75450e1-1eae-44b2-abe1-81d7776c6e97"
      },
      "outputs": [
        {
          "output_type": "execute_result",
          "data": {
            "text/plain": [
              "       year           grandPrix  round           driver constructorName  grid  \\\n",
              "25400  2022  Bahrain Grand Prix      1          leclerc         Ferrari     1   \n",
              "25401  2022  Bahrain Grand Prix      1            sainz         Ferrari     3   \n",
              "25402  2022  Bahrain Grand Prix      1         hamilton        Mercedes     5   \n",
              "25403  2022  Bahrain Grand Prix      1          russell        Mercedes     9   \n",
              "25404  2022  Bahrain Grand Prix      1  kevin_magnussen    Haas F1 Team     7   \n",
              "\n",
              "       positionOrder  points  milliseconds  fastestLapRank  fastestLapSpeed  \\\n",
              "25400              1    26.0     5853584.0             1.0          206.018   \n",
              "25401              2    18.0     5859182.0             3.0          203.501   \n",
              "25402              3    15.0     5863259.0             5.0          202.469   \n",
              "25403              4    12.0     5864795.0             6.0          202.313   \n",
              "25404              5    10.0     5868338.0             8.0          201.641   \n",
              "\n",
              "      driverNationality constructorNationality  \n",
              "25400        Monegasque                Italian  \n",
              "25401           Spanish                Italian  \n",
              "25402           British                 German  \n",
              "25403           British                 German  \n",
              "25404            Danish               American  "
            ],
            "text/html": [
              "\n",
              "  <div id=\"df-3d99385c-738d-4862-b1bf-4f97b8ac8cfa\">\n",
              "    <div class=\"colab-df-container\">\n",
              "      <div>\n",
              "<style scoped>\n",
              "    .dataframe tbody tr th:only-of-type {\n",
              "        vertical-align: middle;\n",
              "    }\n",
              "\n",
              "    .dataframe tbody tr th {\n",
              "        vertical-align: top;\n",
              "    }\n",
              "\n",
              "    .dataframe thead th {\n",
              "        text-align: right;\n",
              "    }\n",
              "</style>\n",
              "<table border=\"1\" class=\"dataframe\">\n",
              "  <thead>\n",
              "    <tr style=\"text-align: right;\">\n",
              "      <th></th>\n",
              "      <th>year</th>\n",
              "      <th>grandPrix</th>\n",
              "      <th>round</th>\n",
              "      <th>driver</th>\n",
              "      <th>constructorName</th>\n",
              "      <th>grid</th>\n",
              "      <th>positionOrder</th>\n",
              "      <th>points</th>\n",
              "      <th>milliseconds</th>\n",
              "      <th>fastestLapRank</th>\n",
              "      <th>fastestLapSpeed</th>\n",
              "      <th>driverNationality</th>\n",
              "      <th>constructorNationality</th>\n",
              "    </tr>\n",
              "  </thead>\n",
              "  <tbody>\n",
              "    <tr>\n",
              "      <th>25400</th>\n",
              "      <td>2022</td>\n",
              "      <td>Bahrain Grand Prix</td>\n",
              "      <td>1</td>\n",
              "      <td>leclerc</td>\n",
              "      <td>Ferrari</td>\n",
              "      <td>1</td>\n",
              "      <td>1</td>\n",
              "      <td>26.0</td>\n",
              "      <td>5853584.0</td>\n",
              "      <td>1.0</td>\n",
              "      <td>206.018</td>\n",
              "      <td>Monegasque</td>\n",
              "      <td>Italian</td>\n",
              "    </tr>\n",
              "    <tr>\n",
              "      <th>25401</th>\n",
              "      <td>2022</td>\n",
              "      <td>Bahrain Grand Prix</td>\n",
              "      <td>1</td>\n",
              "      <td>sainz</td>\n",
              "      <td>Ferrari</td>\n",
              "      <td>3</td>\n",
              "      <td>2</td>\n",
              "      <td>18.0</td>\n",
              "      <td>5859182.0</td>\n",
              "      <td>3.0</td>\n",
              "      <td>203.501</td>\n",
              "      <td>Spanish</td>\n",
              "      <td>Italian</td>\n",
              "    </tr>\n",
              "    <tr>\n",
              "      <th>25402</th>\n",
              "      <td>2022</td>\n",
              "      <td>Bahrain Grand Prix</td>\n",
              "      <td>1</td>\n",
              "      <td>hamilton</td>\n",
              "      <td>Mercedes</td>\n",
              "      <td>5</td>\n",
              "      <td>3</td>\n",
              "      <td>15.0</td>\n",
              "      <td>5863259.0</td>\n",
              "      <td>5.0</td>\n",
              "      <td>202.469</td>\n",
              "      <td>British</td>\n",
              "      <td>German</td>\n",
              "    </tr>\n",
              "    <tr>\n",
              "      <th>25403</th>\n",
              "      <td>2022</td>\n",
              "      <td>Bahrain Grand Prix</td>\n",
              "      <td>1</td>\n",
              "      <td>russell</td>\n",
              "      <td>Mercedes</td>\n",
              "      <td>9</td>\n",
              "      <td>4</td>\n",
              "      <td>12.0</td>\n",
              "      <td>5864795.0</td>\n",
              "      <td>6.0</td>\n",
              "      <td>202.313</td>\n",
              "      <td>British</td>\n",
              "      <td>German</td>\n",
              "    </tr>\n",
              "    <tr>\n",
              "      <th>25404</th>\n",
              "      <td>2022</td>\n",
              "      <td>Bahrain Grand Prix</td>\n",
              "      <td>1</td>\n",
              "      <td>kevin_magnussen</td>\n",
              "      <td>Haas F1 Team</td>\n",
              "      <td>7</td>\n",
              "      <td>5</td>\n",
              "      <td>10.0</td>\n",
              "      <td>5868338.0</td>\n",
              "      <td>8.0</td>\n",
              "      <td>201.641</td>\n",
              "      <td>Danish</td>\n",
              "      <td>American</td>\n",
              "    </tr>\n",
              "  </tbody>\n",
              "</table>\n",
              "</div>\n",
              "      <button class=\"colab-df-convert\" onclick=\"convertToInteractive('df-3d99385c-738d-4862-b1bf-4f97b8ac8cfa')\"\n",
              "              title=\"Convert this dataframe to an interactive table.\"\n",
              "              style=\"display:none;\">\n",
              "        \n",
              "  <svg xmlns=\"http://www.w3.org/2000/svg\" height=\"24px\"viewBox=\"0 0 24 24\"\n",
              "       width=\"24px\">\n",
              "    <path d=\"M0 0h24v24H0V0z\" fill=\"none\"/>\n",
              "    <path d=\"M18.56 5.44l.94 2.06.94-2.06 2.06-.94-2.06-.94-.94-2.06-.94 2.06-2.06.94zm-11 1L8.5 8.5l.94-2.06 2.06-.94-2.06-.94L8.5 2.5l-.94 2.06-2.06.94zm10 10l.94 2.06.94-2.06 2.06-.94-2.06-.94-.94-2.06-.94 2.06-2.06.94z\"/><path d=\"M17.41 7.96l-1.37-1.37c-.4-.4-.92-.59-1.43-.59-.52 0-1.04.2-1.43.59L10.3 9.45l-7.72 7.72c-.78.78-.78 2.05 0 2.83L4 21.41c.39.39.9.59 1.41.59.51 0 1.02-.2 1.41-.59l7.78-7.78 2.81-2.81c.8-.78.8-2.07 0-2.86zM5.41 20L4 18.59l7.72-7.72 1.47 1.35L5.41 20z\"/>\n",
              "  </svg>\n",
              "      </button>\n",
              "      \n",
              "  <style>\n",
              "    .colab-df-container {\n",
              "      display:flex;\n",
              "      flex-wrap:wrap;\n",
              "      gap: 12px;\n",
              "    }\n",
              "\n",
              "    .colab-df-convert {\n",
              "      background-color: #E8F0FE;\n",
              "      border: none;\n",
              "      border-radius: 50%;\n",
              "      cursor: pointer;\n",
              "      display: none;\n",
              "      fill: #1967D2;\n",
              "      height: 32px;\n",
              "      padding: 0 0 0 0;\n",
              "      width: 32px;\n",
              "    }\n",
              "\n",
              "    .colab-df-convert:hover {\n",
              "      background-color: #E2EBFA;\n",
              "      box-shadow: 0px 1px 2px rgba(60, 64, 67, 0.3), 0px 1px 3px 1px rgba(60, 64, 67, 0.15);\n",
              "      fill: #174EA6;\n",
              "    }\n",
              "\n",
              "    [theme=dark] .colab-df-convert {\n",
              "      background-color: #3B4455;\n",
              "      fill: #D2E3FC;\n",
              "    }\n",
              "\n",
              "    [theme=dark] .colab-df-convert:hover {\n",
              "      background-color: #434B5C;\n",
              "      box-shadow: 0px 1px 3px 1px rgba(0, 0, 0, 0.15);\n",
              "      filter: drop-shadow(0px 1px 2px rgba(0, 0, 0, 0.3));\n",
              "      fill: #FFFFFF;\n",
              "    }\n",
              "  </style>\n",
              "\n",
              "      <script>\n",
              "        const buttonEl =\n",
              "          document.querySelector('#df-3d99385c-738d-4862-b1bf-4f97b8ac8cfa button.colab-df-convert');\n",
              "        buttonEl.style.display =\n",
              "          google.colab.kernel.accessAllowed ? 'block' : 'none';\n",
              "\n",
              "        async function convertToInteractive(key) {\n",
              "          const element = document.querySelector('#df-3d99385c-738d-4862-b1bf-4f97b8ac8cfa');\n",
              "          const dataTable =\n",
              "            await google.colab.kernel.invokeFunction('convertToInteractive',\n",
              "                                                     [key], {});\n",
              "          if (!dataTable) return;\n",
              "\n",
              "          const docLinkHtml = 'Like what you see? Visit the ' +\n",
              "            '<a target=\"_blank\" href=https://colab.research.google.com/notebooks/data_table.ipynb>data table notebook</a>'\n",
              "            + ' to learn more about interactive tables.';\n",
              "          element.innerHTML = '';\n",
              "          dataTable['output_type'] = 'display_data';\n",
              "          await google.colab.output.renderOutput(dataTable, element);\n",
              "          const docLink = document.createElement('div');\n",
              "          docLink.innerHTML = docLinkHtml;\n",
              "          element.appendChild(docLink);\n",
              "        }\n",
              "      </script>\n",
              "    </div>\n",
              "  </div>\n",
              "  "
            ]
          },
          "metadata": {},
          "execution_count": 83
        }
      ],
      "source": [
        "df.head()"
      ]
    },
    {
      "cell_type": "code",
      "execution_count": 84,
      "metadata": {
        "id": "NEZGUUhSLQlu"
      },
      "outputs": [],
      "source": [
        "# reset\n",
        "df.reset_index(drop=True, inplace=True)"
      ]
    },
    {
      "cell_type": "code",
      "execution_count": 85,
      "metadata": {
        "id": "PflMQhjlLseF",
        "colab": {
          "base_uri": "https://localhost:8080/"
        },
        "outputId": "73c715ac-029f-4459-c8bb-2e88f8cff7c4"
      },
      "outputs": [
        {
          "output_type": "execute_result",
          "data": {
            "text/plain": [
              "(25660, 13)"
            ]
          },
          "metadata": {},
          "execution_count": 85
        }
      ],
      "source": [
        "df.shape"
      ]
    },
    {
      "cell_type": "code",
      "execution_count": 86,
      "metadata": {
        "id": "mwC30__YL4KE",
        "colab": {
          "base_uri": "https://localhost:8080/",
          "height": 206
        },
        "outputId": "2c171eeb-d443-4545-a541-932076397d76"
      },
      "outputs": [
        {
          "output_type": "execute_result",
          "data": {
            "text/plain": [
              "   year           grandPrix  round           driver constructorName  grid  \\\n",
              "0  2022  Bahrain Grand Prix      1          leclerc         Ferrari     1   \n",
              "1  2022  Bahrain Grand Prix      1            sainz         Ferrari     3   \n",
              "2  2022  Bahrain Grand Prix      1         hamilton        Mercedes     5   \n",
              "3  2022  Bahrain Grand Prix      1          russell        Mercedes     9   \n",
              "4  2022  Bahrain Grand Prix      1  kevin_magnussen    Haas F1 Team     7   \n",
              "\n",
              "   positionOrder  points  milliseconds  fastestLapRank  fastestLapSpeed  \\\n",
              "0              1    26.0     5853584.0             1.0          206.018   \n",
              "1              2    18.0     5859182.0             3.0          203.501   \n",
              "2              3    15.0     5863259.0             5.0          202.469   \n",
              "3              4    12.0     5864795.0             6.0          202.313   \n",
              "4              5    10.0     5868338.0             8.0          201.641   \n",
              "\n",
              "  driverNationality constructorNationality  \n",
              "0        Monegasque                Italian  \n",
              "1           Spanish                Italian  \n",
              "2           British                 German  \n",
              "3           British                 German  \n",
              "4            Danish               American  "
            ],
            "text/html": [
              "\n",
              "  <div id=\"df-cd4ad186-c782-426f-a30c-3a538416599a\">\n",
              "    <div class=\"colab-df-container\">\n",
              "      <div>\n",
              "<style scoped>\n",
              "    .dataframe tbody tr th:only-of-type {\n",
              "        vertical-align: middle;\n",
              "    }\n",
              "\n",
              "    .dataframe tbody tr th {\n",
              "        vertical-align: top;\n",
              "    }\n",
              "\n",
              "    .dataframe thead th {\n",
              "        text-align: right;\n",
              "    }\n",
              "</style>\n",
              "<table border=\"1\" class=\"dataframe\">\n",
              "  <thead>\n",
              "    <tr style=\"text-align: right;\">\n",
              "      <th></th>\n",
              "      <th>year</th>\n",
              "      <th>grandPrix</th>\n",
              "      <th>round</th>\n",
              "      <th>driver</th>\n",
              "      <th>constructorName</th>\n",
              "      <th>grid</th>\n",
              "      <th>positionOrder</th>\n",
              "      <th>points</th>\n",
              "      <th>milliseconds</th>\n",
              "      <th>fastestLapRank</th>\n",
              "      <th>fastestLapSpeed</th>\n",
              "      <th>driverNationality</th>\n",
              "      <th>constructorNationality</th>\n",
              "    </tr>\n",
              "  </thead>\n",
              "  <tbody>\n",
              "    <tr>\n",
              "      <th>0</th>\n",
              "      <td>2022</td>\n",
              "      <td>Bahrain Grand Prix</td>\n",
              "      <td>1</td>\n",
              "      <td>leclerc</td>\n",
              "      <td>Ferrari</td>\n",
              "      <td>1</td>\n",
              "      <td>1</td>\n",
              "      <td>26.0</td>\n",
              "      <td>5853584.0</td>\n",
              "      <td>1.0</td>\n",
              "      <td>206.018</td>\n",
              "      <td>Monegasque</td>\n",
              "      <td>Italian</td>\n",
              "    </tr>\n",
              "    <tr>\n",
              "      <th>1</th>\n",
              "      <td>2022</td>\n",
              "      <td>Bahrain Grand Prix</td>\n",
              "      <td>1</td>\n",
              "      <td>sainz</td>\n",
              "      <td>Ferrari</td>\n",
              "      <td>3</td>\n",
              "      <td>2</td>\n",
              "      <td>18.0</td>\n",
              "      <td>5859182.0</td>\n",
              "      <td>3.0</td>\n",
              "      <td>203.501</td>\n",
              "      <td>Spanish</td>\n",
              "      <td>Italian</td>\n",
              "    </tr>\n",
              "    <tr>\n",
              "      <th>2</th>\n",
              "      <td>2022</td>\n",
              "      <td>Bahrain Grand Prix</td>\n",
              "      <td>1</td>\n",
              "      <td>hamilton</td>\n",
              "      <td>Mercedes</td>\n",
              "      <td>5</td>\n",
              "      <td>3</td>\n",
              "      <td>15.0</td>\n",
              "      <td>5863259.0</td>\n",
              "      <td>5.0</td>\n",
              "      <td>202.469</td>\n",
              "      <td>British</td>\n",
              "      <td>German</td>\n",
              "    </tr>\n",
              "    <tr>\n",
              "      <th>3</th>\n",
              "      <td>2022</td>\n",
              "      <td>Bahrain Grand Prix</td>\n",
              "      <td>1</td>\n",
              "      <td>russell</td>\n",
              "      <td>Mercedes</td>\n",
              "      <td>9</td>\n",
              "      <td>4</td>\n",
              "      <td>12.0</td>\n",
              "      <td>5864795.0</td>\n",
              "      <td>6.0</td>\n",
              "      <td>202.313</td>\n",
              "      <td>British</td>\n",
              "      <td>German</td>\n",
              "    </tr>\n",
              "    <tr>\n",
              "      <th>4</th>\n",
              "      <td>2022</td>\n",
              "      <td>Bahrain Grand Prix</td>\n",
              "      <td>1</td>\n",
              "      <td>kevin_magnussen</td>\n",
              "      <td>Haas F1 Team</td>\n",
              "      <td>7</td>\n",
              "      <td>5</td>\n",
              "      <td>10.0</td>\n",
              "      <td>5868338.0</td>\n",
              "      <td>8.0</td>\n",
              "      <td>201.641</td>\n",
              "      <td>Danish</td>\n",
              "      <td>American</td>\n",
              "    </tr>\n",
              "  </tbody>\n",
              "</table>\n",
              "</div>\n",
              "      <button class=\"colab-df-convert\" onclick=\"convertToInteractive('df-cd4ad186-c782-426f-a30c-3a538416599a')\"\n",
              "              title=\"Convert this dataframe to an interactive table.\"\n",
              "              style=\"display:none;\">\n",
              "        \n",
              "  <svg xmlns=\"http://www.w3.org/2000/svg\" height=\"24px\"viewBox=\"0 0 24 24\"\n",
              "       width=\"24px\">\n",
              "    <path d=\"M0 0h24v24H0V0z\" fill=\"none\"/>\n",
              "    <path d=\"M18.56 5.44l.94 2.06.94-2.06 2.06-.94-2.06-.94-.94-2.06-.94 2.06-2.06.94zm-11 1L8.5 8.5l.94-2.06 2.06-.94-2.06-.94L8.5 2.5l-.94 2.06-2.06.94zm10 10l.94 2.06.94-2.06 2.06-.94-2.06-.94-.94-2.06-.94 2.06-2.06.94z\"/><path d=\"M17.41 7.96l-1.37-1.37c-.4-.4-.92-.59-1.43-.59-.52 0-1.04.2-1.43.59L10.3 9.45l-7.72 7.72c-.78.78-.78 2.05 0 2.83L4 21.41c.39.39.9.59 1.41.59.51 0 1.02-.2 1.41-.59l7.78-7.78 2.81-2.81c.8-.78.8-2.07 0-2.86zM5.41 20L4 18.59l7.72-7.72 1.47 1.35L5.41 20z\"/>\n",
              "  </svg>\n",
              "      </button>\n",
              "      \n",
              "  <style>\n",
              "    .colab-df-container {\n",
              "      display:flex;\n",
              "      flex-wrap:wrap;\n",
              "      gap: 12px;\n",
              "    }\n",
              "\n",
              "    .colab-df-convert {\n",
              "      background-color: #E8F0FE;\n",
              "      border: none;\n",
              "      border-radius: 50%;\n",
              "      cursor: pointer;\n",
              "      display: none;\n",
              "      fill: #1967D2;\n",
              "      height: 32px;\n",
              "      padding: 0 0 0 0;\n",
              "      width: 32px;\n",
              "    }\n",
              "\n",
              "    .colab-df-convert:hover {\n",
              "      background-color: #E2EBFA;\n",
              "      box-shadow: 0px 1px 2px rgba(60, 64, 67, 0.3), 0px 1px 3px 1px rgba(60, 64, 67, 0.15);\n",
              "      fill: #174EA6;\n",
              "    }\n",
              "\n",
              "    [theme=dark] .colab-df-convert {\n",
              "      background-color: #3B4455;\n",
              "      fill: #D2E3FC;\n",
              "    }\n",
              "\n",
              "    [theme=dark] .colab-df-convert:hover {\n",
              "      background-color: #434B5C;\n",
              "      box-shadow: 0px 1px 3px 1px rgba(0, 0, 0, 0.15);\n",
              "      filter: drop-shadow(0px 1px 2px rgba(0, 0, 0, 0.3));\n",
              "      fill: #FFFFFF;\n",
              "    }\n",
              "  </style>\n",
              "\n",
              "      <script>\n",
              "        const buttonEl =\n",
              "          document.querySelector('#df-cd4ad186-c782-426f-a30c-3a538416599a button.colab-df-convert');\n",
              "        buttonEl.style.display =\n",
              "          google.colab.kernel.accessAllowed ? 'block' : 'none';\n",
              "\n",
              "        async function convertToInteractive(key) {\n",
              "          const element = document.querySelector('#df-cd4ad186-c782-426f-a30c-3a538416599a');\n",
              "          const dataTable =\n",
              "            await google.colab.kernel.invokeFunction('convertToInteractive',\n",
              "                                                     [key], {});\n",
              "          if (!dataTable) return;\n",
              "\n",
              "          const docLinkHtml = 'Like what you see? Visit the ' +\n",
              "            '<a target=\"_blank\" href=https://colab.research.google.com/notebooks/data_table.ipynb>data table notebook</a>'\n",
              "            + ' to learn more about interactive tables.';\n",
              "          element.innerHTML = '';\n",
              "          dataTable['output_type'] = 'display_data';\n",
              "          await google.colab.output.renderOutput(dataTable, element);\n",
              "          const docLink = document.createElement('div');\n",
              "          docLink.innerHTML = docLinkHtml;\n",
              "          element.appendChild(docLink);\n",
              "        }\n",
              "      </script>\n",
              "    </div>\n",
              "  </div>\n",
              "  "
            ]
          },
          "metadata": {},
          "execution_count": 86
        }
      ],
      "source": [
        "df.head()"
      ]
    },
    {
      "cell_type": "code",
      "execution_count": 87,
      "metadata": {
        "id": "3epofMPep2Ut",
        "colab": {
          "base_uri": "https://localhost:8080/"
        },
        "outputId": "8d3f5683-79ab-4c83-a911-4a00ed02ace1"
      },
      "outputs": [
        {
          "output_type": "execute_result",
          "data": {
            "text/plain": [
              "1989    620\n",
              "1990    542\n",
              "1991    539\n",
              "1988    495\n",
              "2012    480\n",
              "       ... \n",
              "1951    179\n",
              "1969    177\n",
              "1957    171\n",
              "1966    166\n",
              "1950    160\n",
              "Name: year, Length: 73, dtype: int64"
            ]
          },
          "metadata": {},
          "execution_count": 87
        }
      ],
      "source": [
        "# check for inconsistencies in data\n",
        "df['year'].value_counts()"
      ]
    },
    {
      "cell_type": "code",
      "execution_count": 88,
      "metadata": {
        "id": "5A5Zc8cPqHH-",
        "colab": {
          "base_uri": "https://localhost:8080/"
        },
        "outputId": "7b210e5d-8f49-4946-adfe-cbc55cf9a86d"
      },
      "outputs": [
        {
          "output_type": "execute_result",
          "data": {
            "text/plain": [
              "British Grand Prix               1833\n",
              "Italian Grand Prix               1804\n",
              "Monaco Grand Prix                1624\n",
              "German Grand Prix                1599\n",
              "Belgian Grand Prix               1537\n",
              "French Grand Prix                1484\n",
              "Canadian Grand Prix              1251\n",
              "Spanish Grand Prix               1236\n",
              "Brazilian Grand Prix             1143\n",
              "United States Grand Prix          989\n",
              "Hungarian Grand Prix              871\n",
              "Australian Grand Prix             850\n",
              "Austrian Grand Prix               841\n",
              "Japanese Grand Prix               822\n",
              "Dutch Grand Prix                  707\n",
              "San Marino Grand Prix             667\n",
              "South African Grand Prix          581\n",
              "European Grand Prix               528\n",
              "Mexican Grand Prix                478\n",
              "Portuguese Grand Prix             453\n",
              "Argentine Grand Prix              448\n",
              "Malaysian Grand Prix              412\n",
              "Indianapolis 500                  405\n",
              "Bahrain Grand Prix                380\n",
              "Chinese Grand Prix                342\n",
              "Abu Dhabi Grand Prix              276\n",
              "Singapore Grand Prix              258\n",
              "United States Grand Prix West     220\n",
              "Turkish Grand Prix                192\n",
              "Detroit Grand Prix                191\n",
              "Russian Grand Prix                163\n",
              "Swedish Grand Prix                159\n",
              "Swiss Grand Prix                  129\n",
              "Azerbaijan Grand Prix             100\n",
              "Korean Grand Prix                  94\n",
              "Indian Grand Prix                  70\n",
              "Caesars Palace Grand Prix          60\n",
              "Emilia Romagna Grand Prix          60\n",
              "Pacific Grand Prix                 52\n",
              "Luxembourg Grand Prix              44\n",
              "Saudi Arabian Grand Prix           40\n",
              "Styrian Grand Prix                 40\n",
              "Dallas Grand Prix                  26\n",
              "Moroccan Grand Prix                25\n",
              "Tuscan Grand Prix                  20\n",
              "Sakhir Grand Prix                  20\n",
              "Eifel Grand Prix                   20\n",
              "70th Anniversary Grand Prix        20\n",
              "Qatar Grand Prix                   20\n",
              "São Paulo Grand Prix               20\n",
              "Mexico City Grand Prix             20\n",
              "Miami Grand Prix                   20\n",
              "Pescara Grand Prix                 16\n",
              "Name: grandPrix, dtype: int64"
            ]
          },
          "metadata": {},
          "execution_count": 88
        }
      ],
      "source": [
        "# check for inconsistencies in data for categorical values\n",
        "df['grandPrix'].value_counts()"
      ]
    },
    {
      "cell_type": "code",
      "execution_count": 89,
      "metadata": {
        "id": "e_i9OPyeqQlz",
        "colab": {
          "base_uri": "https://localhost:8080/"
        },
        "outputId": "e7c2ca6f-47de-4bb9-8487-36c6880a99ef"
      },
      "outputs": [
        {
          "output_type": "execute_result",
          "data": {
            "text/plain": [
              "2     1800\n",
              "6     1771\n",
              "7     1769\n",
              "5     1762\n",
              "3     1754\n",
              "8     1701\n",
              "1     1698\n",
              "4     1696\n",
              "9     1585\n",
              "10    1495\n",
              "11    1385\n",
              "12    1315\n",
              "13    1262\n",
              "14    1215\n",
              "15    1140\n",
              "16    1001\n",
              "17     511\n",
              "18     316\n",
              "19     256\n",
              "20     126\n",
              "21      82\n",
              "22      20\n",
              "Name: round, dtype: int64"
            ]
          },
          "metadata": {},
          "execution_count": 89
        }
      ],
      "source": [
        "# check for inconsistencies in data\n",
        "df['round'].value_counts()"
      ]
    },
    {
      "cell_type": "code",
      "execution_count": 90,
      "metadata": {
        "id": "rj1Y8Ui-qUAM",
        "colab": {
          "base_uri": "https://localhost:8080/"
        },
        "outputId": "107296f2-12c9-476f-95ab-0b90df7fe536"
      },
      "outputs": [
        {
          "output_type": "execute_result",
          "data": {
            "text/plain": [
              "raikkonen             352\n",
              "alonso                349\n",
              "barrichello           326\n",
              "button                309\n",
              "michael_schumacher    308\n",
              "                     ... \n",
              "kavanagh                1\n",
              "kessler                 1\n",
              "ecclestone              1\n",
              "taramazzo               1\n",
              "biondetti               1\n",
              "Name: driver, Length: 854, dtype: int64"
            ]
          },
          "metadata": {},
          "execution_count": 90
        }
      ],
      "source": [
        "# check for inconsistencies in data for categorical values\n",
        "df['driver'].value_counts()"
      ]
    },
    {
      "cell_type": "code",
      "execution_count": 91,
      "metadata": {
        "id": "YPsroBfxqWKh",
        "colab": {
          "base_uri": "https://localhost:8080/"
        },
        "outputId": "ace9bcf9-a200-4182-9ed3-58aa2a1ab42c"
      },
      "outputs": [
        {
          "output_type": "execute_result",
          "data": {
            "text/plain": [
              "Ferrari           2329\n",
              "McLaren           1813\n",
              "Williams          1567\n",
              "Tyrrell            881\n",
              "Team Lotus         871\n",
              "                  ... \n",
              "Cooper-OSCA          1\n",
              "Tec-Mec              1\n",
              "Bugatti              1\n",
              "Arzani-Volpini       1\n",
              "Milano               1\n",
              "Name: constructorName, Length: 210, dtype: int64"
            ]
          },
          "metadata": {},
          "execution_count": 91
        }
      ],
      "source": [
        "# check for inconsistencies in data for categorical values\n",
        "df['constructorName'].value_counts()"
      ]
    },
    {
      "cell_type": "code",
      "execution_count": 92,
      "metadata": {
        "id": "5xCVJC9FtvFl",
        "colab": {
          "base_uri": "https://localhost:8080/",
          "height": 300
        },
        "outputId": "02f230fe-0a75-4557-f654-9ece6a43dbb7"
      },
      "outputs": [
        {
          "output_type": "execute_result",
          "data": {
            "text/plain": [
              "               year         round          grid  positionOrder        points  \\\n",
              "count  25660.000000  25660.000000  25660.000000   25660.000000  25660.000000   \n",
              "mean    1990.029072      8.318550     11.187256      12.892673      1.854523   \n",
              "std       19.229104      4.904752      7.251983       7.721729      4.131527   \n",
              "min     1950.000000      1.000000      0.000000       1.000000      0.000000   \n",
              "25%     1976.000000      4.000000      5.000000       6.000000      0.000000   \n",
              "50%     1990.000000      8.000000     11.000000      12.000000      0.000000   \n",
              "75%     2007.000000     12.000000     17.000000      18.000000      2.000000   \n",
              "max     2022.000000     22.000000     34.000000      39.000000     50.000000   \n",
              "\n",
              "       milliseconds  fastestLapRank  fastestLapSpeed  \n",
              "count  6.963000e+03     7411.000000      7206.000000  \n",
              "mean   6.225696e+06       10.426258       203.083332  \n",
              "std    1.673671e+06        6.169824        21.332629  \n",
              "min    2.070710e+05        0.000000        89.540000  \n",
              "25%    5.415903e+06        5.000000       192.762250  \n",
              "50%    5.808632e+06       10.000000       204.291000  \n",
              "75%    6.426908e+06       16.000000       216.197750  \n",
              "max    1.509054e+07       24.000000       257.320000  "
            ],
            "text/html": [
              "\n",
              "  <div id=\"df-520d4a44-18b9-4c39-911b-60c80233627b\">\n",
              "    <div class=\"colab-df-container\">\n",
              "      <div>\n",
              "<style scoped>\n",
              "    .dataframe tbody tr th:only-of-type {\n",
              "        vertical-align: middle;\n",
              "    }\n",
              "\n",
              "    .dataframe tbody tr th {\n",
              "        vertical-align: top;\n",
              "    }\n",
              "\n",
              "    .dataframe thead th {\n",
              "        text-align: right;\n",
              "    }\n",
              "</style>\n",
              "<table border=\"1\" class=\"dataframe\">\n",
              "  <thead>\n",
              "    <tr style=\"text-align: right;\">\n",
              "      <th></th>\n",
              "      <th>year</th>\n",
              "      <th>round</th>\n",
              "      <th>grid</th>\n",
              "      <th>positionOrder</th>\n",
              "      <th>points</th>\n",
              "      <th>milliseconds</th>\n",
              "      <th>fastestLapRank</th>\n",
              "      <th>fastestLapSpeed</th>\n",
              "    </tr>\n",
              "  </thead>\n",
              "  <tbody>\n",
              "    <tr>\n",
              "      <th>count</th>\n",
              "      <td>25660.000000</td>\n",
              "      <td>25660.000000</td>\n",
              "      <td>25660.000000</td>\n",
              "      <td>25660.000000</td>\n",
              "      <td>25660.000000</td>\n",
              "      <td>6.963000e+03</td>\n",
              "      <td>7411.000000</td>\n",
              "      <td>7206.000000</td>\n",
              "    </tr>\n",
              "    <tr>\n",
              "      <th>mean</th>\n",
              "      <td>1990.029072</td>\n",
              "      <td>8.318550</td>\n",
              "      <td>11.187256</td>\n",
              "      <td>12.892673</td>\n",
              "      <td>1.854523</td>\n",
              "      <td>6.225696e+06</td>\n",
              "      <td>10.426258</td>\n",
              "      <td>203.083332</td>\n",
              "    </tr>\n",
              "    <tr>\n",
              "      <th>std</th>\n",
              "      <td>19.229104</td>\n",
              "      <td>4.904752</td>\n",
              "      <td>7.251983</td>\n",
              "      <td>7.721729</td>\n",
              "      <td>4.131527</td>\n",
              "      <td>1.673671e+06</td>\n",
              "      <td>6.169824</td>\n",
              "      <td>21.332629</td>\n",
              "    </tr>\n",
              "    <tr>\n",
              "      <th>min</th>\n",
              "      <td>1950.000000</td>\n",
              "      <td>1.000000</td>\n",
              "      <td>0.000000</td>\n",
              "      <td>1.000000</td>\n",
              "      <td>0.000000</td>\n",
              "      <td>2.070710e+05</td>\n",
              "      <td>0.000000</td>\n",
              "      <td>89.540000</td>\n",
              "    </tr>\n",
              "    <tr>\n",
              "      <th>25%</th>\n",
              "      <td>1976.000000</td>\n",
              "      <td>4.000000</td>\n",
              "      <td>5.000000</td>\n",
              "      <td>6.000000</td>\n",
              "      <td>0.000000</td>\n",
              "      <td>5.415903e+06</td>\n",
              "      <td>5.000000</td>\n",
              "      <td>192.762250</td>\n",
              "    </tr>\n",
              "    <tr>\n",
              "      <th>50%</th>\n",
              "      <td>1990.000000</td>\n",
              "      <td>8.000000</td>\n",
              "      <td>11.000000</td>\n",
              "      <td>12.000000</td>\n",
              "      <td>0.000000</td>\n",
              "      <td>5.808632e+06</td>\n",
              "      <td>10.000000</td>\n",
              "      <td>204.291000</td>\n",
              "    </tr>\n",
              "    <tr>\n",
              "      <th>75%</th>\n",
              "      <td>2007.000000</td>\n",
              "      <td>12.000000</td>\n",
              "      <td>17.000000</td>\n",
              "      <td>18.000000</td>\n",
              "      <td>2.000000</td>\n",
              "      <td>6.426908e+06</td>\n",
              "      <td>16.000000</td>\n",
              "      <td>216.197750</td>\n",
              "    </tr>\n",
              "    <tr>\n",
              "      <th>max</th>\n",
              "      <td>2022.000000</td>\n",
              "      <td>22.000000</td>\n",
              "      <td>34.000000</td>\n",
              "      <td>39.000000</td>\n",
              "      <td>50.000000</td>\n",
              "      <td>1.509054e+07</td>\n",
              "      <td>24.000000</td>\n",
              "      <td>257.320000</td>\n",
              "    </tr>\n",
              "  </tbody>\n",
              "</table>\n",
              "</div>\n",
              "      <button class=\"colab-df-convert\" onclick=\"convertToInteractive('df-520d4a44-18b9-4c39-911b-60c80233627b')\"\n",
              "              title=\"Convert this dataframe to an interactive table.\"\n",
              "              style=\"display:none;\">\n",
              "        \n",
              "  <svg xmlns=\"http://www.w3.org/2000/svg\" height=\"24px\"viewBox=\"0 0 24 24\"\n",
              "       width=\"24px\">\n",
              "    <path d=\"M0 0h24v24H0V0z\" fill=\"none\"/>\n",
              "    <path d=\"M18.56 5.44l.94 2.06.94-2.06 2.06-.94-2.06-.94-.94-2.06-.94 2.06-2.06.94zm-11 1L8.5 8.5l.94-2.06 2.06-.94-2.06-.94L8.5 2.5l-.94 2.06-2.06.94zm10 10l.94 2.06.94-2.06 2.06-.94-2.06-.94-.94-2.06-.94 2.06-2.06.94z\"/><path d=\"M17.41 7.96l-1.37-1.37c-.4-.4-.92-.59-1.43-.59-.52 0-1.04.2-1.43.59L10.3 9.45l-7.72 7.72c-.78.78-.78 2.05 0 2.83L4 21.41c.39.39.9.59 1.41.59.51 0 1.02-.2 1.41-.59l7.78-7.78 2.81-2.81c.8-.78.8-2.07 0-2.86zM5.41 20L4 18.59l7.72-7.72 1.47 1.35L5.41 20z\"/>\n",
              "  </svg>\n",
              "      </button>\n",
              "      \n",
              "  <style>\n",
              "    .colab-df-container {\n",
              "      display:flex;\n",
              "      flex-wrap:wrap;\n",
              "      gap: 12px;\n",
              "    }\n",
              "\n",
              "    .colab-df-convert {\n",
              "      background-color: #E8F0FE;\n",
              "      border: none;\n",
              "      border-radius: 50%;\n",
              "      cursor: pointer;\n",
              "      display: none;\n",
              "      fill: #1967D2;\n",
              "      height: 32px;\n",
              "      padding: 0 0 0 0;\n",
              "      width: 32px;\n",
              "    }\n",
              "\n",
              "    .colab-df-convert:hover {\n",
              "      background-color: #E2EBFA;\n",
              "      box-shadow: 0px 1px 2px rgba(60, 64, 67, 0.3), 0px 1px 3px 1px rgba(60, 64, 67, 0.15);\n",
              "      fill: #174EA6;\n",
              "    }\n",
              "\n",
              "    [theme=dark] .colab-df-convert {\n",
              "      background-color: #3B4455;\n",
              "      fill: #D2E3FC;\n",
              "    }\n",
              "\n",
              "    [theme=dark] .colab-df-convert:hover {\n",
              "      background-color: #434B5C;\n",
              "      box-shadow: 0px 1px 3px 1px rgba(0, 0, 0, 0.15);\n",
              "      filter: drop-shadow(0px 1px 2px rgba(0, 0, 0, 0.3));\n",
              "      fill: #FFFFFF;\n",
              "    }\n",
              "  </style>\n",
              "\n",
              "      <script>\n",
              "        const buttonEl =\n",
              "          document.querySelector('#df-520d4a44-18b9-4c39-911b-60c80233627b button.colab-df-convert');\n",
              "        buttonEl.style.display =\n",
              "          google.colab.kernel.accessAllowed ? 'block' : 'none';\n",
              "\n",
              "        async function convertToInteractive(key) {\n",
              "          const element = document.querySelector('#df-520d4a44-18b9-4c39-911b-60c80233627b');\n",
              "          const dataTable =\n",
              "            await google.colab.kernel.invokeFunction('convertToInteractive',\n",
              "                                                     [key], {});\n",
              "          if (!dataTable) return;\n",
              "\n",
              "          const docLinkHtml = 'Like what you see? Visit the ' +\n",
              "            '<a target=\"_blank\" href=https://colab.research.google.com/notebooks/data_table.ipynb>data table notebook</a>'\n",
              "            + ' to learn more about interactive tables.';\n",
              "          element.innerHTML = '';\n",
              "          dataTable['output_type'] = 'display_data';\n",
              "          await google.colab.output.renderOutput(dataTable, element);\n",
              "          const docLink = document.createElement('div');\n",
              "          docLink.innerHTML = docLinkHtml;\n",
              "          element.appendChild(docLink);\n",
              "        }\n",
              "      </script>\n",
              "    </div>\n",
              "  </div>\n",
              "  "
            ]
          },
          "metadata": {},
          "execution_count": 92
        }
      ],
      "source": [
        "# identify outliers\n",
        "df.describe()\n"
      ]
    },
    {
      "cell_type": "markdown",
      "metadata": {
        "id": "ilt8lrJqS-gw"
      },
      "source": [
        "Data Visualization"
      ]
    },
    {
      "cell_type": "code",
      "execution_count": 93,
      "metadata": {
        "id": "VXnYzddGfGIy"
      },
      "outputs": [],
      "source": [
        "driverWinner = df.loc[df['positionOrder']==1].groupby('driver')['positionOrder'].count().sort_values(ascending=False).to_frame().reset_index()"
      ]
    },
    {
      "cell_type": "code",
      "execution_count": 94,
      "metadata": {
        "id": "3Hqtp73cTDG_",
        "colab": {
          "base_uri": "https://localhost:8080/"
        },
        "outputId": "ca6a9b1e-62de-481e-be04-3d89dc737ec4"
      },
      "outputs": [
        {
          "output_type": "stream",
          "name": "stdout",
          "text": [
            "               driver  positionOrder\n",
            "0            hamilton            103\n",
            "1  michael_schumacher             91\n",
            "2              vettel             53\n",
            "3               prost             51\n",
            "4               senna             41\n",
            "5              alonso             32\n",
            "6             mansell             31\n",
            "7      max_verstappen             28\n",
            "8             stewart             27\n",
            "9               lauda             25\n"
          ]
        }
      ],
      "source": [
        "top10Drivers = driverWinner.head(10)\n",
        "print(top10Drivers)"
      ]
    },
    {
      "cell_type": "code",
      "execution_count": 95,
      "metadata": {
        "id": "wp6CGxdx2siU"
      },
      "outputs": [],
      "source": [
        "driverWinnerNationality = df.loc[df['positionOrder']==1].groupby('driverNationality')['positionOrder'].count().sort_values(ascending=False).to_frame().reset_index()"
      ]
    },
    {
      "cell_type": "code",
      "execution_count": 96,
      "metadata": {
        "id": "cQhZSaCd2mIn",
        "colab": {
          "base_uri": "https://localhost:8080/"
        },
        "outputId": "a917030f-7381-4d9b-ea9f-e8914366c9ec"
      },
      "outputs": [
        {
          "output_type": "stream",
          "name": "stdout",
          "text": [
            "  driverNationality  positionOrder\n",
            "0           British            308\n",
            "1            German            179\n",
            "2         Brazilian            101\n",
            "3            French             81\n",
            "4           Finnish             57\n",
            "5        Australian             43\n",
            "6           Italian             43\n",
            "7          Austrian             41\n",
            "8         Argentine             38\n",
            "9           Spanish             33\n"
          ]
        }
      ],
      "source": [
        "top10DriversNationality = driverWinnerNationality.head(10)\n",
        "print(top10DriversNationality)"
      ]
    },
    {
      "cell_type": "code",
      "execution_count": 97,
      "metadata": {
        "id": "D8-GTJ3jTSPH",
        "colab": {
          "base_uri": "https://localhost:8080/",
          "height": 312
        },
        "outputId": "0f10f820-18b8-423b-aa9f-0fbbf3fc0d83"
      },
      "outputs": [
        {
          "output_type": "execute_result",
          "data": {
            "text/plain": [
              "Text(0.5, 0, 'Number of GP wins')"
            ]
          },
          "metadata": {},
          "execution_count": 97
        },
        {
          "output_type": "display_data",
          "data": {
            "text/plain": [
              "<Figure size 432x288 with 1 Axes>"
            ],
            "image/png": "[encoded data removed]"
          },
          "metadata": {
            "needs_background": "light"
          }
        }
      ],
      "source": [
        "# top 10 drivers viz\n",
        "import seaborn as sns\n",
        "sns.barplot(data=top10Drivers, y='driver', x='positionOrder', color='blue', edgecolor='black')\n",
        "plt.title('Most GP Winners in F1')\n",
        "plt.ylabel('Driver Name')\n",
        "plt.xlabel('Number of GP wins')"
      ]
    },
    {
      "cell_type": "code",
      "execution_count": 98,
      "metadata": {
        "id": "9lltiycatKc3",
        "colab": {
          "base_uri": "https://localhost:8080/",
          "height": 312
        },
        "outputId": "eb3c95e9-60b7-40ec-a756-d8b1bdbd6d5e"
      },
      "outputs": [
        {
          "output_type": "execute_result",
          "data": {
            "text/plain": [
              "Text(0.5, 0, 'Number of GP wins')"
            ]
          },
          "metadata": {},
          "execution_count": 98
        },
        {
          "output_type": "display_data",
          "data": {
            "text/plain": [
              "<Figure size 432x288 with 1 Axes>"
            ],
            "image/png": "[encoded data removed]"
          },
          "metadata": {
            "needs_background": "light"
          }
        }
      ],
      "source": [
        "# top 10 drivers viz\n",
        "import seaborn as sns\n",
        "sns.barplot(data=top10DriversNationality, y='driverNationality', x='positionOrder', color='blue', edgecolor='black')\n",
        "plt.title('Most GP Winners in F1 (Nationality)')\n",
        "plt.ylabel('Driver Nationality')\n",
        "plt.xlabel('Number of GP wins')"
      ]
    },
    {
      "cell_type": "code",
      "execution_count": 99,
      "metadata": {
        "id": "1z-23PVAdTOJ",
        "colab": {
          "base_uri": "https://localhost:8080/"
        },
        "outputId": "e192301a-428d-4206-b3a5-259a844c81ea"
      },
      "outputs": [
        {
          "output_type": "stream",
          "name": "stdout",
          "text": [
            "  constructorName  positionOrder\n",
            "0         Ferrari            243\n",
            "1         McLaren            179\n",
            "2        Mercedes            124\n",
            "3        Williams            114\n",
            "4        Red Bull             84\n",
            "5      Team Lotus             45\n",
            "6         Renault             35\n",
            "7        Benetton             27\n",
            "8         Brabham             23\n",
            "9         Tyrrell             23\n"
          ]
        }
      ],
      "source": [
        "# top 10 constructors\n",
        "constructorWinner = df.loc[df['positionOrder'] == 1].groupby('constructorName')['positionOrder'].count().sort_values(ascending = False).to_frame().reset_index()\n",
        "top10Constructors = constructorWinner.head(10)\n",
        "print(top10Constructors)"
      ]
    },
    {
      "cell_type": "code",
      "execution_count": 100,
      "metadata": {
        "id": "SjPln0rQ3Bgy",
        "colab": {
          "base_uri": "https://localhost:8080/"
        },
        "outputId": "ac9cfe74-61a3-4ad2-cae7-5e4e2eafe432"
      },
      "outputs": [
        {
          "output_type": "stream",
          "name": "stdout",
          "text": [
            "  constructorNationality  positionOrder\n",
            "0                British            494\n",
            "1                Italian            281\n",
            "2                 German            126\n",
            "3               Austrian             84\n",
            "4                 French             54\n",
            "5               American             13\n",
            "6                  Swiss             11\n",
            "7                  Irish              4\n",
            "8               Canadian              3\n",
            "9               Japanese              3\n"
          ]
        }
      ],
      "source": [
        "# top 10 constructors nationality\n",
        "constructorWinnerNationality = df.loc[df['positionOrder'] == 1].groupby('constructorNationality')['positionOrder'].count().sort_values(ascending = False).to_frame().reset_index()\n",
        "top10ConstructorsNationality = constructorWinnerNationality.head(10)\n",
        "print(top10ConstructorsNationality)"
      ]
    },
    {
      "cell_type": "code",
      "execution_count": 101,
      "metadata": {
        "id": "wWRX1Mutkt5n",
        "colab": {
          "base_uri": "https://localhost:8080/",
          "height": 312
        },
        "outputId": "bcbb49da-989e-4b73-f6af-1e9d05f42567"
      },
      "outputs": [
        {
          "output_type": "execute_result",
          "data": {
            "text/plain": [
              "Text(0.5, 0, 'Number of GP wins')"
            ]
          },
          "metadata": {},
          "execution_count": 101
        },
        {
          "output_type": "display_data",
          "data": {
            "text/plain": [
              "<Figure size 432x288 with 1 Axes>"
            ],
            "image/png": "[encoded data removed]"
          },
          "metadata": {
            "needs_background": "light"
          }
        }
      ],
      "source": [
        "# top 10 constructors viz\n",
        "import seaborn as sns\n",
        "sns.barplot(data=top10Constructors, y='constructorName', x='positionOrder', color='blue', edgecolor='black')\n",
        "plt.title('Most GP Winners in F1 (Constructors)')\n",
        "plt.ylabel('Constructor')\n",
        "plt.xlabel('Number of GP wins')"
      ]
    },
    {
      "cell_type": "code",
      "execution_count": 102,
      "metadata": {
        "colab": {
          "base_uri": "https://localhost:8080/",
          "height": 312
        },
        "id": "gBlkfVIr3LCz",
        "outputId": "72da527c-f33d-48ad-b1c1-1351f68dd02e"
      },
      "outputs": [
        {
          "output_type": "execute_result",
          "data": {
            "text/plain": [
              "Text(0.5, 0, 'Number of GP wins')"
            ]
          },
          "metadata": {},
          "execution_count": 102
        },
        {
          "output_type": "display_data",
          "data": {
            "text/plain": [
              "<Figure size 432x288 with 1 Axes>"
            ],
            "image/png": "[encoded data removed]"
          },
          "metadata": {
            "needs_background": "light"
          }
        }
      ],
      "source": [
        "# top 10 constructors viz nationality\n",
        "import seaborn as sns\n",
        "sns.barplot(data=top10ConstructorsNationality, y='constructorNationality', x='positionOrder', color='blue', edgecolor='black')\n",
        "plt.title('Most GP Winners in F1 (Constructors Nationality)')\n",
        "plt.ylabel('Constructor')\n",
        "plt.xlabel('Number of GP wins')"
      ]
    },
    {
      "cell_type": "code",
      "execution_count": 103,
      "metadata": {
        "id": "PzwFxVfdzFdH"
      },
      "outputs": [],
      "source": [
        "corr = df.corr()\n"
      ]
    },
    {
      "cell_type": "code",
      "execution_count": 104,
      "metadata": {
        "id": "rsqgAN-MzSXM",
        "colab": {
          "base_uri": "https://localhost:8080/",
          "height": 359
        },
        "outputId": "514343ef-6f02-45cf-b272-03269ff03703"
      },
      "outputs": [
        {
          "output_type": "stream",
          "name": "stdout",
          "text": [
            "There is a moderate negative correlation of .57 between the points and final positionOrder of a driver in each race.\n"
          ]
        },
        {
          "output_type": "display_data",
          "data": {
            "text/plain": [
              "<Figure size 432x288 with 2 Axes>"
            ],
            "image/png": "[encoded data removed]"
          },
          "metadata": {
            "needs_background": "light"
          }
        }
      ],
      "source": [
        "sns.heatmap(corr, cmap = 'Greens', annot = True)\n",
        "print('There is a moderate negative correlation of .57 between the points and final positionOrder of a driver in each race.')"
      ]
    },
    {
      "cell_type": "markdown",
      "metadata": {
        "id": "v6Hk5ANKJmSR"
      },
      "source": [
        "Implement Pre-processing Pipeline"
      ]
    },
    {
      "cell_type": "code",
      "execution_count": 105,
      "metadata": {
        "id": "KY0uhHeBl0yE",
        "colab": {
          "base_uri": "https://localhost:8080/"
        },
        "outputId": "3a66f9ee-ab57-43e0-8742-b21ef77c5433"
      },
      "outputs": [
        {
          "output_type": "stream",
          "name": "stdout",
          "text": [
            "<class 'pandas.core.frame.DataFrame'>\n",
            "RangeIndex: 25660 entries, 0 to 25659\n",
            "Data columns (total 13 columns):\n",
            " #   Column                  Non-Null Count  Dtype  \n",
            "---  ------                  --------------  -----  \n",
            " 0   year                    25660 non-null  int64  \n",
            " 1   grandPrix               25660 non-null  object \n",
            " 2   round                   25660 non-null  int64  \n",
            " 3   driver                  25660 non-null  object \n",
            " 4   constructorName         25660 non-null  object \n",
            " 5   grid                    25660 non-null  int64  \n",
            " 6   positionOrder           25660 non-null  int64  \n",
            " 7   points                  25660 non-null  float64\n",
            " 8   milliseconds            6963 non-null   float64\n",
            " 9   fastestLapRank          7411 non-null   float64\n",
            " 10  fastestLapSpeed         7206 non-null   float64\n",
            " 11  driverNationality       25660 non-null  object \n",
            " 12  constructorNationality  25660 non-null  object \n",
            "dtypes: float64(4), int64(4), object(5)\n",
            "memory usage: 2.5+ MB\n"
          ]
        }
      ],
      "source": [
        "df.info()"
      ]
    },
    {
      "cell_type": "code",
      "execution_count": 106,
      "metadata": {
        "id": "h_vU5H8ZnPjK"
      },
      "outputs": [],
      "source": [
        "# Split\n",
        "from sklearn.model_selection import train_test_split\n",
        "X = df.drop('positionOrder', axis=1)\n",
        "y = df['positionOrder']\n",
        "X_train, X_test, y_train, y_test = train_test_split(X, y, random_state=42)\n"
      ]
    },
    {
      "cell_type": "code",
      "execution_count": 107,
      "metadata": {
        "id": "P_rnpXPuvVNK"
      },
      "outputs": [],
      "source": [
        "# Imputers\n",
        "from sklearn.impute import SimpleImputer\n",
        "freq_imputer = SimpleImputer(strategy='most_frequent')"
      ]
    },
    {
      "cell_type": "code",
      "execution_count": 108,
      "metadata": {
        "id": "FU88PukWJph1",
        "colab": {
          "base_uri": "https://localhost:8080/"
        },
        "outputId": "1506e63c-4583-4a0a-9e14-5726193ddd78"
      },
      "outputs": [
        {
          "output_type": "execute_result",
          "data": {
            "text/plain": [
              "Pipeline(steps=[('simpleimputer', SimpleImputer(strategy='most_frequent')),\n",
              "                ('standardscaler', StandardScaler())])"
            ]
          },
          "metadata": {},
          "execution_count": 108
        }
      ],
      "source": [
        "# Instantiate scaler into pipeline\n",
        "from sklearn.preprocessing import StandardScaler, OrdinalEncoder, OneHotEncoder\n",
        "from sklearn.pipeline import make_pipeline\n",
        "\n",
        "scaler = StandardScaler()\n",
        "\n",
        "numeric_pipe = make_pipeline(freq_imputer, scaler)\n",
        "numeric_pipe"
      ]
    },
    {
      "cell_type": "code",
      "execution_count": 109,
      "metadata": {
        "id": "UZ_7qHFZnCE5"
      },
      "outputs": [],
      "source": [
        "# Instantiate ohe\n",
        "ohe = OneHotEncoder(handle_unknown='ignore')\n",
        "nominal_pipe = make_pipeline(ohe)"
      ]
    },
    {
      "cell_type": "code",
      "execution_count": 110,
      "metadata": {
        "id": "1hAKecQSnnT1"
      },
      "outputs": [],
      "source": [
        "# Instantiate column selectors\n",
        "from sklearn.compose import make_column_transformer, make_column_selector\n",
        "nominal_selector = make_column_selector(dtype_include='object')\n",
        "num_selector = make_column_selector(dtype_include='number')"
      ]
    },
    {
      "cell_type": "code",
      "execution_count": 111,
      "metadata": {
        "id": "1ROHXW59u5y9",
        "colab": {
          "base_uri": "https://localhost:8080/"
        },
        "outputId": "c86d30c1-3861-478d-9ce8-227ddd289384"
      },
      "outputs": [
        {
          "output_type": "execute_result",
          "data": {
            "text/plain": [
              "ColumnTransformer(transformers=[('pipeline-1',\n",
              "                                 Pipeline(steps=[('simpleimputer',\n",
              "                                                  SimpleImputer(strategy='most_frequent')),\n",
              "                                                 ('standardscaler',\n",
              "                                                  StandardScaler())]),\n",
              "                                 <sklearn.compose._column_transformer.make_column_selector object at 0x7f06652f3ed0>),\n",
              "                                ('pipeline-2',\n",
              "                                 Pipeline(steps=[('onehotencoder',\n",
              "                                                  OneHotEncoder(handle_unknown='ignore'))]),\n",
              "                                 <sklearn.compose._column_transformer.make_column_selector object at 0x7f06652f3e90>)])"
            ]
          },
          "metadata": {},
          "execution_count": 111
        }
      ],
      "source": [
        "# tuples\n",
        "number_tuple = (numeric_pipe, num_selector)\n",
        "nominal_tuple = (nominal_pipe, nominal_selector)\n",
        "# Column Transformer\n",
        "preprocessor = make_column_transformer(number_tuple, nominal_tuple)\n",
        "preprocessor"
      ]
    },
    {
      "cell_type": "code",
      "execution_count": 112,
      "metadata": {
        "id": "UU8x-F2sssRc",
        "colab": {
          "base_uri": "https://localhost:8080/"
        },
        "outputId": "50cc82ce-2b48-4f2d-a624-eef8fd72936c"
      },
      "outputs": [
        {
          "output_type": "execute_result",
          "data": {
            "text/plain": [
              "ColumnTransformer(transformers=[('pipeline-1',\n",
              "                                 Pipeline(steps=[('simpleimputer',\n",
              "                                                  SimpleImputer(strategy='most_frequent')),\n",
              "                                                 ('standardscaler',\n",
              "                                                  StandardScaler())]),\n",
              "                                 <sklearn.compose._column_transformer.make_column_selector object at 0x7f06652f3ed0>),\n",
              "                                ('pipeline-2',\n",
              "                                 Pipeline(steps=[('onehotencoder',\n",
              "                                                  OneHotEncoder(handle_unknown='ignore'))]),\n",
              "                                 <sklearn.compose._column_transformer.make_column_selector object at 0x7f06652f3e90>)])"
            ]
          },
          "metadata": {},
          "execution_count": 112
        }
      ],
      "source": [
        "preprocessor.fit(X_train)"
      ]
    },
    {
      "cell_type": "code",
      "execution_count": 113,
      "metadata": {
        "id": "lNQERyGs38TM"
      },
      "outputs": [],
      "source": [
        "# transform train and test\n",
        "X_train_processed = preprocessor.transform(X_train)\n",
        "X_test_processed = preprocessor.transform(X_test)"
      ]
    },
    {
      "cell_type": "code",
      "execution_count": 114,
      "metadata": {
        "id": "p8vzMuByvMZc",
        "colab": {
          "base_uri": "https://localhost:8080/"
        },
        "outputId": "60afb507-ad5f-482d-f961-1f4b84c2b01a"
      },
      "outputs": [
        {
          "output_type": "stream",
          "name": "stdout",
          "text": [
            "\n",
            "\n",
            "All data in X_train_processed are float64\n",
            "All data in X_test_processed are float64\n",
            "\n",
            "\n",
            "shape of data is (19245, 1123)\n",
            "\n",
            "\n"
          ]
        },
        {
          "output_type": "execute_result",
          "data": {
            "text/plain": [
              "<19245x1123 sparse matrix of type '<class 'numpy.float64'>'\n",
              "\twith 230940 stored elements in Compressed Sparse Row format>"
            ]
          },
          "metadata": {},
          "execution_count": 114
        }
      ],
      "source": [
        "# Check for missing values and that data is scaled and one-hot encoded\n",
        "print('\\n')\n",
        "print('All data in X_train_processed are', X_train_processed.dtype)\n",
        "print('All data in X_test_processed are', X_test_processed.dtype)\n",
        "print('\\n')\n",
        "print('shape of data is', X_train_processed.shape)\n",
        "print('\\n')\n",
        "X_train_processed"
      ]
    },
    {
      "cell_type": "markdown",
      "metadata": {
        "id": "ue-nmwdiTEjN"
      },
      "source": [
        "Model Development"
      ]
    },
    {
      "cell_type": "code",
      "execution_count": 115,
      "metadata": {
        "id": "m2f6YNpuTGQD",
        "colab": {
          "base_uri": "https://localhost:8080/"
        },
        "outputId": "ec93296e-f5f7-4020-88a9-1527998e094b"
      },
      "outputs": [
        {
          "output_type": "execute_result",
          "data": {
            "text/plain": [
              "LinearRegression()"
            ]
          },
          "metadata": {},
          "execution_count": 115
        }
      ],
      "source": [
        "# Linear Regression\n",
        "from sklearn.linear_model import LinearRegression\n",
        "reg = LinearRegression()\n",
        "reg.fit(X_train_processed,y_train)"
      ]
    },
    {
      "cell_type": "code",
      "execution_count": 116,
      "metadata": {
        "id": "rMvUYS6XVE0j",
        "colab": {
          "base_uri": "https://localhost:8080/"
        },
        "outputId": "a3d7b055-3715-4cba-8abf-c55cc3472e05"
      },
      "outputs": [
        {
          "output_type": "stream",
          "name": "stdout",
          "text": [
            "0.6382784167162292\n",
            "0.569025317044803\n"
          ]
        }
      ],
      "source": [
        "train_score = reg.score(X_train_processed, y_train)\n",
        "print(train_score)\n",
        "test_score = reg.score(X_test_processed, y_test)\n",
        "print(test_score)"
      ]
    },
    {
      "cell_type": "code",
      "execution_count": 117,
      "metadata": {
        "id": "mqMsyrqyVIcY",
        "colab": {
          "base_uri": "https://localhost:8080/"
        },
        "outputId": "7847254a-f9ef-45a5-e629-400f815d16fa"
      },
      "outputs": [
        {
          "output_type": "execute_result",
          "data": {
            "text/plain": [
              "DecisionTreeRegressor(random_state=42)"
            ]
          },
          "metadata": {},
          "execution_count": 117
        }
      ],
      "source": [
        "# Decision Tree Refressor\n",
        "from sklearn.tree import DecisionTreeRegressor\n",
        "dec_tree = DecisionTreeRegressor(random_state = 42)\n",
        "dec_tree.fit(X_train_processed, y_train)"
      ]
    },
    {
      "cell_type": "code",
      "execution_count": 118,
      "metadata": {
        "id": "ngh614lZWFcS",
        "colab": {
          "base_uri": "https://localhost:8080/"
        },
        "outputId": "8c61a00e-3750-4923-9aee-452765534512"
      },
      "outputs": [
        {
          "output_type": "stream",
          "name": "stdout",
          "text": [
            "1.0\n",
            "0.5382087031622416\n"
          ]
        }
      ],
      "source": [
        "# evaluate the model\n",
        "train_score2 = dec_tree.score(X_train_processed, y_train)\n",
        "test_score2 = dec_tree.score(X_test_processed, y_test)\n",
        "print(train_score2)\n",
        "print(test_score2)"
      ]
    },
    {
      "cell_type": "code",
      "execution_count": 119,
      "metadata": {
        "id": "3n_iPip1WZa9",
        "colab": {
          "base_uri": "https://localhost:8080/"
        },
        "outputId": "b1cd815d-6a37-4f47-c874-4f5abec916e6"
      },
      "outputs": [
        {
          "output_type": "execute_result",
          "data": {
            "text/plain": [
              "{'ccp_alpha': 0.0,\n",
              " 'criterion': 'squared_error',\n",
              " 'max_depth': None,\n",
              " 'max_features': None,\n",
              " 'max_leaf_nodes': None,\n",
              " 'min_impurity_decrease': 0.0,\n",
              " 'min_samples_leaf': 1,\n",
              " 'min_samples_split': 2,\n",
              " 'min_weight_fraction_leaf': 0.0,\n",
              " 'random_state': 42,\n",
              " 'splitter': 'best'}"
            ]
          },
          "metadata": {},
          "execution_count": 119
        }
      ],
      "source": [
        "# Looking at options for tuning this model\n",
        "dec_tree.get_params()"
      ]
    },
    {
      "cell_type": "code",
      "execution_count": 120,
      "metadata": {
        "id": "M6k3dAboWd6e",
        "colab": {
          "base_uri": "https://localhost:8080/"
        },
        "outputId": "0f16747d-74cf-413c-9ec4-fd03eddcbc02"
      },
      "outputs": [
        {
          "output_type": "execute_result",
          "data": {
            "text/plain": [
              "101"
            ]
          },
          "metadata": {},
          "execution_count": 120
        }
      ],
      "source": [
        "# What was the depth of our default tree?\n",
        "dec_tree.get_depth()"
      ]
    },
    {
      "cell_type": "code",
      "execution_count": 121,
      "metadata": {
        "id": "wOaPSj42Wnp6"
      },
      "outputs": [],
      "source": [
        "# List of values to try for max_depth:\n",
        "max_depth_range = list(range(2, 40)) # will try every value between 2 and 36\n",
        "# List to store the score for each value of max_depth:\n",
        "r2 = []\n",
        "for depth in max_depth_range:\n",
        "    dec_tree = DecisionTreeRegressor(max_depth = depth, \n",
        "                             random_state = 42)\n",
        "    dec_tree.fit(X_train_processed, y_train)\n",
        "    score = dec_tree.score(X_test_processed, y_test)\n",
        "    r2.append(score)\n"
      ]
    },
    {
      "cell_type": "code",
      "execution_count": 122,
      "metadata": {
        "id": "VuKGtOGXW5gv",
        "colab": {
          "base_uri": "https://localhost:8080/",
          "height": 282
        },
        "outputId": "201eab0e-6899-4b09-84f6-ce403e75a4c9"
      },
      "outputs": [
        {
          "output_type": "display_data",
          "data": {
            "text/plain": [
              "<Figure size 432x288 with 1 Axes>"
            ],
            "image/png": "[encoded data removed]"
          },
          "metadata": {
            "needs_background": "light"
          }
        }
      ],
      "source": [
        "# Visualize which max_depth leads to the highest r2 score\n",
        "import matplotlib.pyplot as plt\n",
        "plt.plot(max_depth_range, r2)\n",
        "plt.xlabel('max_depth')\n",
        "plt.ylabel('R2');\n",
        "\n"
      ]
    },
    {
      "cell_type": "code",
      "execution_count": 123,
      "metadata": {
        "id": "GsN-lZMLXovh",
        "colab": {
          "base_uri": "https://localhost:8080/"
        },
        "outputId": "6a4df49c-50c7-46d4-af8d-3b8b89a23542"
      },
      "outputs": [
        {
          "output_type": "stream",
          "name": "stdout",
          "text": [
            "0.7695318042408544\n",
            "0.75443953732484\n"
          ]
        }
      ],
      "source": [
        "# Let's run the model with our optimized value for max_depth\n",
        "dec_tree_10 = DecisionTreeRegressor(max_depth = 10, random_state = 42)\n",
        "dec_tree_10.fit(X_train_processed, y_train)\n",
        "train_10_score = dec_tree_10.score(X_train_processed, y_train)\n",
        "test_10_score = dec_tree_10.score(X_test_processed, y_test)\n",
        "print(train_10_score)\n",
        "print(test_10_score)\n"
      ]
    },
    {
      "cell_type": "code",
      "execution_count": 124,
      "metadata": {
        "id": "6sIfVFLlf0Th",
        "colab": {
          "base_uri": "https://localhost:8080/"
        },
        "outputId": "2fd8f384-db8d-4028-a2d5-7828f3af4ca3"
      },
      "outputs": [
        {
          "output_type": "execute_result",
          "data": {
            "text/plain": [
              "BaggingRegressor(random_state=42)"
            ]
          },
          "metadata": {},
          "execution_count": 124
        }
      ],
      "source": [
        "# Bagged Trees\n",
        "from sklearn.ensemble import BaggingRegressor\n",
        "bagreg = BaggingRegressor(random_state = 42)\n",
        "bagreg.fit(X_train_processed, y_train)\n"
      ]
    },
    {
      "cell_type": "code",
      "execution_count": 125,
      "metadata": {
        "id": "1psZzqqngdqW",
        "colab": {
          "base_uri": "https://localhost:8080/"
        },
        "outputId": "d48142f2-035c-452d-c10f-5d440d716c15"
      },
      "outputs": [
        {
          "output_type": "stream",
          "name": "stdout",
          "text": [
            "0.9528110549324872\n",
            "0.7273520154638888\n"
          ]
        }
      ],
      "source": [
        "# evaluate\n",
        "bagreg_train_score = bagreg.score(X_train_processed, y_train)\n",
        "bagreg_test_score = bagreg.score(X_test_processed, y_test)\n",
        "print(bagreg_train_score)\n",
        "print(bagreg_test_score)\n",
        "\n"
      ]
    },
    {
      "cell_type": "code",
      "execution_count": 126,
      "metadata": {
        "id": "QaX8N_8YIs6e",
        "colab": {
          "base_uri": "https://localhost:8080/"
        },
        "outputId": "3baeb97d-98a4-4157-91fe-555030633697"
      },
      "outputs": [
        {
          "output_type": "execute_result",
          "data": {
            "text/plain": [
              "RandomForestRegressor(random_state=42)"
            ]
          },
          "metadata": {},
          "execution_count": 126
        }
      ],
      "source": [
        "# Random Forest\n",
        "from sklearn.ensemble import RandomForestRegressor\n",
        "rf = RandomForestRegressor(random_state = 42)\n",
        "rf.fit(X_train_processed, y_train)"
      ]
    },
    {
      "cell_type": "code",
      "execution_count": 127,
      "metadata": {
        "id": "Uwcl2-A9I9i1",
        "colab": {
          "base_uri": "https://localhost:8080/"
        },
        "outputId": "a014740a-179e-46ad-d5ce-70acbac8f67b"
      },
      "outputs": [
        {
          "output_type": "stream",
          "name": "stdout",
          "text": [
            "0.9648220942246232\n",
            "0.7516455384705422\n"
          ]
        }
      ],
      "source": [
        "# Evaluate\n",
        "rf_train_score = rf.score(X_train_processed, y_train)\n",
        "rf_test_score = rf.score(X_test_processed, y_test)\n",
        "print(rf_train_score)\n",
        "print(rf_test_score)"
      ]
    },
    {
      "cell_type": "code",
      "execution_count": 128,
      "metadata": {
        "id": "JDq6ZKj_Jreh",
        "colab": {
          "base_uri": "https://localhost:8080/"
        },
        "outputId": "e8663c31-fa55-4f4e-e298-24c7b9102846"
      },
      "outputs": [
        {
          "output_type": "stream",
          "name": "stdout",
          "text": [
            "0.9655277599438418\n",
            "0.7527876137689584\n"
          ]
        }
      ],
      "source": [
        "# Try 200 trees\n",
        "rf_200 = RandomForestRegressor(n_estimators = 200, random_state = 42)\n",
        "# Fit the model\n",
        "rf_200.fit(X_train_processed, y_train)\n",
        "# Obtain the scores\n",
        "rf_200_train_score = rf_200.score(X_train_processed, y_train)\n",
        "rf_200_test_score = rf_200.score(X_test_processed, y_test)\n",
        "print(rf_200_train_score)\n",
        "print(rf_200_test_score)\n"
      ]
    },
    {
      "cell_type": "code",
      "execution_count": null,
      "metadata": {
        "id": "wqW__z55idke"
      },
      "outputs": [],
      "source": [
        "# List of values to try for max_depth:\n",
        "max_depth_range = list(range(2, 40)) # will try every value between 2 and 36\n",
        "# List to store the score for each value of max_depth:\n",
        "r2 = []\n",
        "for depth in max_depth_range:\n",
        "    rf_new = RandomForestRegressor(max_depth = depth, \n",
        "                             random_state = 42)\n",
        "    rf_new.fit(X_train_processed, y_train)\n",
        "    score = rf_new.score(X_test_processed, y_test)\n",
        "    r2.append(score)"
      ]
    },
    {
      "cell_type": "code",
      "execution_count": null,
      "metadata": {
        "id": "eaiPnh__uhmB"
      },
      "outputs": [],
      "source": [
        "# Visualize which max_depth leads to the highest r2 score\n",
        "plt.plot(max_depth_range, r2)\n",
        "plt.xlabel('max_depth')\n",
        "plt.ylabel('R2');"
      ]
    },
    {
      "cell_type": "code",
      "execution_count": 130,
      "metadata": {
        "colab": {
          "base_uri": "https://localhost:8080/"
        },
        "id": "9yZYzb9JxMtZ",
        "outputId": "ec25d81f-31c4-425f-edc1-e1a458e131f8"
      },
      "outputs": [
        {
          "output_type": "stream",
          "name": "stdout",
          "text": [
            "0.8082574218617169\n",
            "0.7684578844848107\n"
          ]
        }
      ],
      "source": [
        "rf_10 = RandomForestRegressor(max_depth = 15, n_estimators = 200, random_state = 42)\n",
        "rf_10.fit(X_train_processed, y_train)\n",
        "train_rf_10_score = rf_10.score(X_train_processed, y_train)\n",
        "test_rf_10_score = rf_10.score(X_test_processed, y_test)\n",
        "print(train_rf_10_score)\n",
        "print(test_rf_10_score)"
      ]
    },
    {
      "cell_type": "markdown",
      "metadata": {
        "id": "vXTJQ1QBlGIM"
      },
      "source": [
        "I have decided to use the Random Forest Regressor model since it yields the highest testing score out of the other models (0.7684578844848107)"
      ]
    }
  ],
  "metadata": {
    "colab": {
      "collapsed_sections": [],
      "name": "Project 2 - Part 5.ipynb",
      "provenance": [],
      "authorship_tag": "ABX9TyP5pdBtcZJlVyu6HQ6bmsZa",
      "include_colab_link": true
    },
    "kernelspec": {
      "display_name": "Python 3",
      "name": "python3"
    },
    "language_info": {
      "name": "python"
    }
  },
  "nbformat": 4,
  "nbformat_minor": 0
}